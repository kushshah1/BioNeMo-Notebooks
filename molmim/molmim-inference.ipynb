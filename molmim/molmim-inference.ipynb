{
 "cells": [
  {
   "cell_type": "markdown",
   "id": "eae5c045-bec3-437f-a4e5-b5c39743d5bf",
   "metadata": {},
   "source": [
    "# MolMIM Inferencing for Generative Chemistry and Downstream Prediction"
   ]
  },
  {
   "cell_type": "markdown",
   "id": "4901b9b7-1acf-4883-9db7-68e7bcfe48cd",
   "metadata": {},
   "source": [
    "Note: This notebook was tested on a single A100 GPU using BioNeMo Framework v1.6."
   ]
  },
  {
   "cell_type": "markdown",
   "id": "65dcfbc5-5c83-406b-873a-175c1c1a154a",
   "metadata": {},
   "source": [
    "## Demo Objectives"
   ]
  },
  {
   "cell_type": "markdown",
   "id": "9277c38c-2827-419b-9512-ddd64087a4e0",
   "metadata": {},
   "source": [
    "1. **MolMIM inferencing and integration with RDKit**\n",
    "    * Objective: Generate hidden state representations and embeddings from SMILES strings\n",
    "2. **Molecular generation**\n",
    "    * Objective: Explore the chemical space by generating new molecules based on a seed SMILES string\n",
    "3. **Downstream prediction using MolMIM embeddings**\n",
    "    * Objective: Generate an ESOL water solubility prediction model from MolMIM embeddings"
   ]
  },
  {
   "cell_type": "markdown",
   "id": "07432049-5633-42eb-8f36-9af805babf11",
   "metadata": {
    "tags": []
   },
   "source": [
    "## Setup"
   ]
  },
  {
   "cell_type": "markdown",
   "id": "304cece3-92f0-414a-bfb8-469e99ff474c",
   "metadata": {
    "tags": []
   },
   "source": [
    "Please ensure that you have read through the Getting Started section, can run the BioNeMo Framework docker container, and have configured the NGC Command Line Interface (CLI).\n"
   ]
  },
  {
   "cell_type": "markdown",
   "id": "f5cf8924-a0e9-4322-89e3-335a4e6e1fcd",
   "metadata": {},
   "source": [
    "### Home Directory"
   ]
  },
  {
   "cell_type": "markdown",
   "id": "311d9dfb-f927-400e-8c8b-af4a0962376f",
   "metadata": {
    "tags": []
   },
   "source": [
    "Set the home directory as follows:"
   ]
  },
  {
   "cell_type": "code",
   "execution_count": 6,
   "id": "f2e561ce-d169-4846-bb09-d41b4b2898b5",
   "metadata": {
    "tags": []
   },
   "outputs": [],
   "source": [
    "import os\n",
    "bionemo_home = \"/workspace/bionemo\"\n",
    "os.environ['BIONEMO_HOME'] = bionemo_home\n",
    "os.chdir(bionemo_home)"
   ]
  },
  {
   "cell_type": "markdown",
   "id": "a749c2cd-2c81-4856-8c8a-ab26db2d0524",
   "metadata": {},
   "source": [
    "### Import Required Libraries"
   ]
  },
  {
   "cell_type": "code",
   "execution_count": 7,
   "id": "bee9bca9-c818-4bbf-933b-ac3f87a17bbc",
   "metadata": {
    "tags": []
   },
   "outputs": [
    {
     "name": "stdout",
     "output_type": "stream",
     "text": [
      "[NeMo I 2024-07-26 01:46:11 megatron_hiddens:110] Registered hidden transform sampled_var_cond_gaussian at bionemo.model.core.hiddens_support.SampledVarGaussianHiddenTransform\n",
      "[NeMo I 2024-07-26 01:46:11 megatron_hiddens:110] Registered hidden transform interp_var_cond_gaussian at bionemo.model.core.hiddens_support.InterpVarGaussianHiddenTransform\n"
     ]
    }
   ],
   "source": [
    "# RDKit for handling/manipulating chemical data\n",
    "from rdkit import Chem\n",
    "from rdkit.Chem import AllChem, Draw\n",
    "\n",
    "import pandas as pd\n",
    "import numpy as np\n",
    "from sklearn.model_selection import train_test_split\n",
    "from sklearn.svm import SVR\n",
    "from sklearn.metrics import mean_squared_error, r2_score\n",
    "\n",
    "import matplotlib.pyplot as plt\n",
    "\n",
    "from bionemo.utils.hydra import load_model_config\n",
    "from bionemo.model.molecule.molmim.infer import MolMIMInference"
   ]
  },
  {
   "cell_type": "markdown",
   "id": "a2014769-c619-4e1d-8977-9eff1c60ef98",
   "metadata": {
    "tags": []
   },
   "source": [
    "### Download Model Checkpoints"
   ]
  },
  {
   "cell_type": "markdown",
   "id": "0f524c32-c56e-4cc9-b7dd-ea9539bcd556",
   "metadata": {},
   "source": [
    "Now, download the pre-trained MolMIM model checkpoints:"
   ]
  },
  {
   "cell_type": "code",
   "execution_count": 8,
   "id": "9e759df4-450d-4097-a217-0d16284b88b1",
   "metadata": {
    "tags": []
   },
   "outputs": [
    {
     "name": "stdout",
     "output_type": "stream",
     "text": [
      "Running command: ngc --version\n",
      "\n",
      "NGC CLI 3.44.0\n",
      "\n",
      "Done.\n",
      "Running command: mkdir -p /workspace/bionemo/models && ngc registry model download-version nvidia/clara/molmim:1.3 --dest /workspace/bionemo/models && mv /workspace/bionemo/models/molmim_v1.3/* /workspace/bionemo/models/ && rm -d /workspace/bionemo/models/molmim_v1.3\n",
      "\n",
      "\n",
      "Done.\n",
      "Running command: mkdir -p /workspace/bionemo/models/molecule/molmim && ln -sf ../../molmim_70m_24_3.nemo /workspace/bionemo/models/molecule/molmim/molmim_70m_24_3.nemo\n",
      "\n",
      "\n",
      "Done.\n"
     ]
    }
   ],
   "source": [
    "!python download_artifacts.py --model_dir ${BIONEMO_HOME}/models --models molmim_70m_24_3"
   ]
  },
  {
   "cell_type": "markdown",
   "id": "31a9651e-dd1b-455f-ac11-c1e8910f6d97",
   "metadata": {},
   "source": [
    "## MolMIM Inference Functions"
   ]
  },
  {
   "cell_type": "markdown",
   "id": "f1bfe1de-3f75-46f4-97c1-bef8c68b74e7",
   "metadata": {
    "tags": []
   },
   "source": [
    "### Load Configurations"
   ]
  },
  {
   "cell_type": "markdown",
   "id": "7ba7a349-aa6f-46d0-a15f-ac5969bce4f0",
   "metadata": {},
   "source": [
    "Here, we load pre-trained model checkpoints and point the YAML configuration file to the desired checkpoints path."
   ]
  },
  {
   "cell_type": "code",
   "execution_count": null,
   "id": "81bbdee6-647b-43a1-bb4d-b2f17e791ee4",
   "metadata": {
    "tags": []
   },
   "outputs": [],
   "source": [
    "# Load pre-trained model checkpoints\n",
    "checkpoint_path = f\"{bionemo_home}/models/molecule/molmim/molmim_70m_24_3.nemo\"\n",
    "\n",
    "# Load starting config for MolMIM inference\n",
    "cfg = load_model_config(config_name=\"molmim_infer.yaml\", config_path=f\"{bionemo_home}/examples/tests/conf/\")\n",
    "\n",
    "# Point YAML configuration file to the location of the desired checkpoints\n",
    "cfg.model.downstream_task.restore_from_path = checkpoint_path\n",
    "\n",
    "# Create model object based on desired configuration\n",
    "model = MolMIMInference(cfg, interactive=True)"
   ]
  },
  {
   "cell_type": "markdown",
   "id": "dd76899c-cc45-47bd-894a-7aab30c3a3bd",
   "metadata": {},
   "source": [
    "### SMILES Examples with RDKit"
   ]
  },
  {
   "cell_type": "markdown",
   "id": "91412d17-ad86-4619-b0cc-10758ad31115",
   "metadata": {},
   "source": [
    "Here, as an example, we will take the SMILES strings for two widely used antimalarial drugs, Mefloquine and Hydroxychloroquine, and use RDKit to display the molecues."
   ]
  },
  {
   "cell_type": "code",
   "execution_count": 11,
   "id": "db89dd42-ae5c-4de9-b20e-e83f5c3d3dc2",
   "metadata": {
    "tags": []
   },
   "outputs": [
    {
     "data": {
      "image/png": "[encoded data removed]",
      "text/plain": [
       "<IPython.core.display.Image object>"
      ]
     },
     "execution_count": 11,
     "metadata": {},
     "output_type": "execute_result"
    }
   ],
   "source": [
    "# Two SMILES strings\n",
    "smis = ['OC(c1cc(C(F)(F)F)nc2c(C(F)(F)F)cccc12)C1CCCCN1',     \n",
    "        'CCN(CCO)CCCC(C)Nc1ccnc2cc(Cl)ccc12'] \n",
    "\n",
    "# RDKit's MolFromSmiles() function draws out the 2D molecule from the SMILES string\n",
    "m1 = Chem.MolFromSmiles(smis[0])\n",
    "m2 = Chem.MolFromSmiles(smis[1])\n",
    "Draw.MolsToGridImage((m1,m2), legends=[\"Mefloquine\",\"Hydroxychloroquine\"], subImgSize=(300,200))"
   ]
  },
  {
   "cell_type": "markdown",
   "id": "dcefa4a8-9172-49d2-b0c6-2f23cac589da",
   "metadata": {
    "tags": []
   },
   "source": [
    "### From SMILES to Hidden State"
   ]
  },
  {
   "cell_type": "markdown",
   "id": "c4d5f74f-afba-4cfc-aa6f-33237911df8a",
   "metadata": {},
   "source": [
    "We now run inference with MolMIM to find the hidden states of our starting molecules."
   ]
  },
  {
   "cell_type": "markdown",
   "id": "e46f21dc-5079-41f9-9a45-fee6a2d8a7bc",
   "metadata": {
    "tags": []
   },
   "source": [
    "![molmim-hidden-state](../images/molmim-hidden-state.png)"
   ]
  },
  {
   "cell_type": "code",
   "execution_count": 18,
   "id": "1647b457-91b7-4fc8-925b-ca16a6c4e219",
   "metadata": {
    "tags": []
   },
   "outputs": [
    {
     "data": {
      "text/plain": [
       "(torch.Size([2, 1, 512]), torch.Size([2, 1]))"
      ]
     },
     "execution_count": 18,
     "metadata": {},
     "output_type": "execute_result"
    }
   ],
   "source": [
    "# obtaining the hidden state representations for input SMILES\n",
    "hidden_states, pad_masks = model.seq_to_hiddens(smis)\n",
    "hidden_states.shape, pad_masks.shape"
   ]
  },
  {
   "cell_type": "markdown",
   "id": "6b64e75b-9f4e-4407-afe0-d567a94ee636",
   "metadata": {},
   "source": [
    "### From SMILES to Embedding"
   ]
  },
  {
   "cell_type": "markdown",
   "id": "b7706448-da1e-43ed-bb85-bf41fa7b35ee",
   "metadata": {
    "tags": []
   },
   "source": [
    "We can also obtain their embeddings."
   ]
  },
  {
   "cell_type": "code",
   "execution_count": 19,
   "id": "1b76e237-bdfe-4d6f-9311-e18629e45efa",
   "metadata": {
    "tags": []
   },
   "outputs": [
    {
     "data": {
      "text/plain": [
       "torch.Size([2, 512])"
      ]
     },
     "execution_count": 19,
     "metadata": {},
     "output_type": "execute_result"
    }
   ],
   "source": [
    "embedding = model.seq_to_embeddings(smis)\n",
    "embedding.shape"
   ]
  },
  {
   "cell_type": "markdown",
   "id": "b5ad956c-4ada-4606-b02a-e230eef3bea5",
   "metadata": {
    "tags": []
   },
   "source": [
    "### Hidden State to SMILES"
   ]
  },
  {
   "cell_type": "markdown",
   "id": "b382a8a7-ac77-452b-a68d-8fe8455f7c80",
   "metadata": {},
   "source": [
    "Let's see if the decoder turns the hidden state into the same SMILES strings, or similar."
   ]
  },
  {
   "cell_type": "code",
   "execution_count": 20,
   "id": "0e14c963-d518-4c45-aa4f-d78a490e8391",
   "metadata": {
    "tags": []
   },
   "outputs": [
    {
     "name": "stdout",
     "output_type": "stream",
     "text": [
      "[NeMo I 2024-07-23 22:29:42 megatron_lm_encoder_decoder_model:1195] Decoding using the greedy-search method...\n",
      "['OC(c1cc(C(F)(F)F)nc2c(C(F)(F)F)cccc12)C1CCCC1', 'CCN(CCO)CCCC(C)Nc1ccnc2cc(Cl)ccc12']\n"
     ]
    },
    {
     "data": {
      "image/png": "[encoded data removed]",
      "text/plain": [
       "<IPython.core.display.Image object>"
      ]
     },
     "execution_count": 20,
     "metadata": {},
     "output_type": "execute_result"
    }
   ],
   "source": [
    "# Obtaining SMILES chemical representation from a hidden state using the hidden_to_seqs function \n",
    "inferred_smis = model.hiddens_to_seq(hidden_states, pad_masks)\n",
    "\n",
    "# Examine the inferred SMILES\n",
    "print(inferred_smis)\n",
    "\n",
    "inf_1 = Chem.MolFromSmiles(inferred_smis[0])\n",
    "inf_2 = Chem.MolFromSmiles(inferred_smis[1])\n",
    "\n",
    "Draw.MolsToGridImage((inf_1,inf_2),legends=[\"inferred compound 1\",\"inferred compound 2\"], subImgSize=(350,350))"
   ]
  },
  {
   "cell_type": "markdown",
   "id": "acd0f01f-5a23-42f9-8f7e-e1815cecab9a",
   "metadata": {},
   "source": [
    "Let's check if they are the same compounds:"
   ]
  },
  {
   "cell_type": "code",
   "execution_count": 21,
   "id": "5be798cf-f09a-4180-b0e9-3c84fbc772b9",
   "metadata": {
    "tags": []
   },
   "outputs": [
    {
     "data": {
      "text/plain": [
       "False"
      ]
     },
     "execution_count": 21,
     "metadata": {},
     "output_type": "execute_result"
    }
   ],
   "source": [
    "smis[0]==inferred_smis[0]\n",
    "# DOCUMENTATION: Claims this one is the same, but it is not."
   ]
  },
  {
   "cell_type": "code",
   "execution_count": 22,
   "id": "b071418b-a40e-414a-935c-a04adedc8f64",
   "metadata": {
    "tags": []
   },
   "outputs": [
    {
     "data": {
      "text/plain": [
       "True"
      ]
     },
     "execution_count": 22,
     "metadata": {},
     "output_type": "execute_result"
    }
   ],
   "source": [
    "smis[1]==inferred_smis[1]"
   ]
  },
  {
   "cell_type": "markdown",
   "id": "5b565539-3821-415a-ac95-0b1938cecf3c",
   "metadata": {},
   "source": [
    "The second compound is the same. The first one is similar, but not the same."
   ]
  },
  {
   "cell_type": "markdown",
   "id": "3243d023-b243-4fc6-af6c-011e5239e482",
   "metadata": {},
   "source": [
    "## Molecular Generation and Chemical Space Exploration"
   ]
  },
  {
   "cell_type": "code",
   "execution_count": 23,
   "id": "4882628f-a60d-4be9-995d-21f57a212bf9",
   "metadata": {
    "tags": []
   },
   "outputs": [],
   "source": [
    "# DOCUMENTATION: Need to update the diagrams. They show embedding matrics (of MegaMolBART) but its actually embedding vectors in MolMIM."
   ]
  },
  {
   "cell_type": "markdown",
   "id": "56756f09-b8ea-4c47-b174-3dc7fa85f5fe",
   "metadata": {},
   "source": [
    "We now generate molecules by taking the seed molecules as input. There are multiple sampling methods available:\n",
    "* greedy-perturbate\n",
    "* topkp-perturbate\n",
    "* beam-search-perturbate\n",
    "* beam-search-single-sample\n",
    "* beam-search-perturbate-sample"
   ]
  },
  {
   "cell_type": "code",
   "execution_count": 24,
   "id": "d6e589c5-ee14-4242-97a5-fbb875167abc",
   "metadata": {
    "tags": []
   },
   "outputs": [],
   "source": [
    "# DOCUMENTATION: WHERE WAS TORCH NEEDED HERE?\n",
    "# DOCUMENTATION: Need to specify the acceptable kwargs for each sampling method\n",
    "\n",
    "# Function to generate new SMILES strings from the model\n",
    "def chem_sample(smis):\n",
    "    # Note that sample() method is defined in BaseEncoderDecoderInference\n",
    "        # MolMIMInference <-- MolInference <-- BaseEncoderDecoderInference\n",
    "        # sample() takes in: num_samples (1), return_embedding (False), sampling_method (None), hiddens_to_seq_kwargs ({}), scaled_radius (1.0), kwargs\n",
    "\n",
    "    # PART 1: SAMPLING\n",
    "    # Set Sampling Arguments\n",
    "    num_samples = 10\n",
    "    scaled_radius = 0.7\n",
    "    sampling_method=\"beam-search-perturbate\" # Options: greedy-perturbate, topkp-perturbate, beam-search-perturbate, beam-search-single-sample, beam-search-perturbate-sample\n",
    "    sampler_kwargs = {\n",
    "        \"beam_size\": 3,\n",
    "        \"keep_only_best_tokens\": True,\n",
    "        \"return_scores\": False\n",
    "    }    \n",
    "    \n",
    "    # Do sampling\n",
    "    population_samples = model.sample(seqs=smis, num_samples=num_samples, scaled_radius=scaled_radius, sampling_method=\"beam-search-perturbate\", **sampler_kwargs)\n",
    "\n",
    "    # PART 2: FILTER RESULTS\n",
    "    uniq_canonical_smiles = []\n",
    "    # Loop (repeat) for each seed molecule\n",
    "    for smis_samples, original in zip(population_samples, smis):\n",
    "        # Very simple step: Take the generated molecules, and:\n",
    "        # 1) Remove duplicates\n",
    "        # 2) Remove the original if it was produced in the set of generated molecules\n",
    "        smis_samples = set(smis_samples) - set([original])\n",
    "\n",
    "        # Collect subset of valid molecules from the generated molecules\n",
    "        valid_molecules = []\n",
    "        for smis in smis_samples:\n",
    "            mol = Chem.MolFromSmiles(smis) # invalid mol's will get type NoneType and be filtered out\n",
    "            if mol:\n",
    "                valid_molecules.append(Chem.MolToSmiles(mol,True))\n",
    "        uniq_canonical_smiles.append(valid_molecules)\n",
    "    return uniq_canonical_smiles # List (dim = # of seed molecules) of lists (dim = # of valid generated molecules per seed)"
   ]
  },
  {
   "cell_type": "code",
   "execution_count": 25,
   "id": "a766fbc0-426f-4457-8f48-b73f83d83e03",
   "metadata": {
    "tags": []
   },
   "outputs": [
    {
     "name": "stdout",
     "output_type": "stream",
     "text": [
      "[NeMo I 2024-07-23 22:29:45 megatron_lm_encoder_decoder_model:1192] Decoding using the beam search method with beam size=3...\n"
     ]
    }
   ],
   "source": [
    "# Redefining the same smis\n",
    "smis_lst = ['OC(c1cc(C(F)(F)F)nc2c(C(F)(F)F)cccc12)C1CCCCN1',     \n",
    "        'CCN(CCO)CCCC(C)Nc1ccnc2cc(Cl)ccc12'] \n",
    "\n",
    "# Using the chem_sample function to generate new, valid molecules from input smis\n",
    "gen_smis_lst = chem_sample(smis_lst)"
   ]
  },
  {
   "cell_type": "code",
   "execution_count": 26,
   "id": "cf700893-df30-4b64-85ee-df710583682a",
   "metadata": {
    "tags": []
   },
   "outputs": [
    {
     "name": "stdout",
     "output_type": "stream",
     "text": [
      "Original SMILES: OC(c1cc(C(F)(F)F)nc2c(C(F)(F)F)cccc12)C1CCCCN1\n",
      "Generated 10 unique/valid SMILES: ['OCc1ncc(C(F)(F)F)nc1N(CC(F)(F)F)C1CC1', 'OC(c1cc(C(F)(F)F)ncc1Cl)(C(F)F)N1CCCCCC1', 'OC(c1csc(Br)c1)c1cc(C(F)(F)F)ncn1', 'O=C(O)C(F)(F)CCCNS(=O)(=O)c1ccccc1', 'OCc1ncc(C(F)(F)F)nc1N(C[C@H]1CCCO1)CC(F)(F)F', 'OC[C@@H]1C[C@H](NC(F)(F)F)C12CCC2', 'OC(c1c(NC[C@H]2CCOC2)nc2ccccn12)(C1CC1)C1CC1', 'OCc1ccc(C(F)(F)F)nc1N(Cc1ccccc1)c1ccccc1', 'OC(c1cc(C(F)(F)F)nc2c(C(F)(F)F)cccc12)C1CCCC1', 'O[C@@H](c1cc(C(F)(F)F)ncn1)C(F)(F)Br']\n",
      "\n",
      "\n",
      "Original SMILES: CCN(CCO)CCCC(C)Nc1ccnc2cc(Cl)ccc12\n",
      "Generated 9 unique/valid SMILES: ['CCN(CCO)CCCC(=O)Nc1cnc2cc(Cl)ccc2n1', 'CCN(CCO)CCCC(=O)N1CCSc2cc(Cl)ccc21', 'CCN(CCO)CCCC(=O)N1CCNc2cc(Cl)ccc21', 'CCN(CCO)CCCCN(C)c1ccnc2cc(Cl)ccc12', 'CCN(CCO)CCC[C@@H](C)Nc1ccnc2c(Cl)cccc12', 'CCN(CC(=O)NC)C[C@H](N)c1nc2cc(Cl)ccc2s1', 'CCN(CCO)CCNC(=O)c1ccnc2cc(Cl)ccc12', 'CCN(CCO)CCCC(=O)N[C@H](C)c1cc(Cl)cc2c1OCC2', 'CCN(CCO)CCCC(=O)Nc1cnc2cc(Cl)ccn12']\n",
      "\n",
      "\n"
     ]
    }
   ],
   "source": [
    "# Print Results\n",
    "for ori_smis, gen_smis in zip(smis_lst, gen_smis_lst):\n",
    "        print(f\"Original SMILES: {ori_smis}\")\n",
    "        print(f\"Generated {len(gen_smis)} unique/valid SMILES: {gen_smis}\")\n",
    "        print(\"\\n\")"
   ]
  },
  {
   "cell_type": "markdown",
   "id": "18272529-a437-4599-b53f-41147b7e65a8",
   "metadata": {},
   "source": [
    "## Downstream Prediction Model (Using Learned Embeddings from Pre-Trained Model)"
   ]
  },
  {
   "cell_type": "markdown",
   "id": "a053b978-b4d7-45ea-82b4-615d6de37bfb",
   "metadata": {},
   "source": [
    "## (e.g. ESOL Water Solubility Prediction)"
   ]
  },
  {
   "cell_type": "code",
   "execution_count": 33,
   "id": "351b76ac-3816-4480-9b87-f1233645d6ac",
   "metadata": {
    "tags": []
   },
   "outputs": [
    {
     "name": "stdout",
     "output_type": "stream",
     "text": [
      "--2024-07-23 22:33:11--  https://deepchemdata.s3-us-west-1.amazonaws.com/datasets/delaney-processed.csv\n",
      "Resolving deepchemdata.s3-us-west-1.amazonaws.com (deepchemdata.s3-us-west-1.amazonaws.com)... 52.219.216.50, 3.5.163.189, 3.5.163.174, ...\n",
      "Connecting to deepchemdata.s3-us-west-1.amazonaws.com (deepchemdata.s3-us-west-1.amazonaws.com)|52.219.216.50|:443... connected.\n",
      "HTTP request sent, awaiting response... 200 OK\n",
      "Length: 96699 (94K) [text/csv]\n",
      "Saving to: ‘delaney-processed2.csv’\n",
      "\n",
      "delaney-processed2. 100%[===================>]  94.43K  --.-KB/s    in 0.08s   \n",
      "\n",
      "2024-07-23 22:33:12 (1.19 MB/s) - ‘delaney-processed2.csv’ saved [96699/96699]\n",
      "\n"
     ]
    }
   ],
   "source": [
    "# DOCUMENTATION: Said dataset is not available in the container, must be downloaded online\n",
    "!wget -O delaney-processed2.csv https://deepchemdata.s3-us-west-1.amazonaws.com/datasets/delaney-processed.csv"
   ]
  },
  {
   "cell_type": "markdown",
   "id": "532e2710-d775-4779-83a8-e37b9c4d19d2",
   "metadata": {},
   "source": [
    "Visit https://moleculenet.org/datasets-1 and download the ESOL dataset (water solubility for common organic small molecules)."
   ]
  },
  {
   "cell_type": "markdown",
   "id": "bba49a34-cb61-443c-ab9f-1967a06d7191",
   "metadata": {
    "tags": []
   },
   "source": [
    "### Data Preprocessing"
   ]
  },
  {
   "cell_type": "code",
   "execution_count": 29,
   "id": "fd891e88-a02a-45a2-857c-de7facf512f5",
   "metadata": {
    "tags": []
   },
   "outputs": [],
   "source": [
    "ex_data_file = './kushah_test_workspace/delaney-processed.csv'\n",
    "ex_df = pd.read_csv(ex_data_file)"
   ]
  },
  {
   "cell_type": "code",
   "execution_count": 30,
   "id": "03dba9d0-700d-4942-abef-42fca0cb6ad2",
   "metadata": {
    "tags": []
   },
   "outputs": [
    {
     "name": "stdout",
     "output_type": "stream",
     "text": [
      "(1128, 10)\n"
     ]
    },
    {
     "data": {
      "text/html": [
       "<div>\n",
       "<style scoped>\n",
       "    .dataframe tbody tr th:only-of-type {\n",
       "        vertical-align: middle;\n",
       "    }\n",
       "\n",
       "    .dataframe tbody tr th {\n",
       "        vertical-align: top;\n",
       "    }\n",
       "\n",
       "    .dataframe thead th {\n",
       "        text-align: right;\n",
       "    }\n",
       "</style>\n",
       "<table border=\"1\" class=\"dataframe\">\n",
       "  <thead>\n",
       "    <tr style=\"text-align: right;\">\n",
       "      <th></th>\n",
       "      <th>Compound ID</th>\n",
       "      <th>ESOL predicted log solubility in mols per litre</th>\n",
       "      <th>Minimum Degree</th>\n",
       "      <th>Molecular Weight</th>\n",
       "      <th>Number of H-Bond Donors</th>\n",
       "      <th>Number of Rings</th>\n",
       "      <th>Number of Rotatable Bonds</th>\n",
       "      <th>Polar Surface Area</th>\n",
       "      <th>measured log solubility in mols per litre</th>\n",
       "      <th>smiles</th>\n",
       "    </tr>\n",
       "  </thead>\n",
       "  <tbody>\n",
       "    <tr>\n",
       "      <th>0</th>\n",
       "      <td>Amigdalin</td>\n",
       "      <td>-0.974</td>\n",
       "      <td>1</td>\n",
       "      <td>457.432</td>\n",
       "      <td>7</td>\n",
       "      <td>3</td>\n",
       "      <td>7</td>\n",
       "      <td>202.32</td>\n",
       "      <td>-0.77</td>\n",
       "      <td>OCC3OC(OCC2OC(OC(C#N)c1ccccc1)C(O)C(O)C2O)C(O)...</td>\n",
       "    </tr>\n",
       "    <tr>\n",
       "      <th>1</th>\n",
       "      <td>Fenfuram</td>\n",
       "      <td>-2.885</td>\n",
       "      <td>1</td>\n",
       "      <td>201.225</td>\n",
       "      <td>1</td>\n",
       "      <td>2</td>\n",
       "      <td>2</td>\n",
       "      <td>42.24</td>\n",
       "      <td>-3.30</td>\n",
       "      <td>Cc1occc1C(=O)Nc2ccccc2</td>\n",
       "    </tr>\n",
       "    <tr>\n",
       "      <th>2</th>\n",
       "      <td>citral</td>\n",
       "      <td>-2.579</td>\n",
       "      <td>1</td>\n",
       "      <td>152.237</td>\n",
       "      <td>0</td>\n",
       "      <td>0</td>\n",
       "      <td>4</td>\n",
       "      <td>17.07</td>\n",
       "      <td>-2.06</td>\n",
       "      <td>CC(C)=CCCC(C)=CC(=O)</td>\n",
       "    </tr>\n",
       "    <tr>\n",
       "      <th>3</th>\n",
       "      <td>Picene</td>\n",
       "      <td>-6.618</td>\n",
       "      <td>2</td>\n",
       "      <td>278.354</td>\n",
       "      <td>0</td>\n",
       "      <td>5</td>\n",
       "      <td>0</td>\n",
       "      <td>0.00</td>\n",
       "      <td>-7.87</td>\n",
       "      <td>c1ccc2c(c1)ccc3c2ccc4c5ccccc5ccc43</td>\n",
       "    </tr>\n",
       "    <tr>\n",
       "      <th>4</th>\n",
       "      <td>Thiophene</td>\n",
       "      <td>-2.232</td>\n",
       "      <td>2</td>\n",
       "      <td>84.143</td>\n",
       "      <td>0</td>\n",
       "      <td>1</td>\n",
       "      <td>0</td>\n",
       "      <td>0.00</td>\n",
       "      <td>-1.33</td>\n",
       "      <td>c1ccsc1</td>\n",
       "    </tr>\n",
       "  </tbody>\n",
       "</table>\n",
       "</div>"
      ],
      "text/plain": [
       "  Compound ID  ESOL predicted log solubility in mols per litre  \\\n",
       "0   Amigdalin                                           -0.974   \n",
       "1    Fenfuram                                           -2.885   \n",
       "2      citral                                           -2.579   \n",
       "3      Picene                                           -6.618   \n",
       "4   Thiophene                                           -2.232   \n",
       "\n",
       "   Minimum Degree  Molecular Weight  Number of H-Bond Donors  Number of Rings  \\\n",
       "0               1           457.432                        7                3   \n",
       "1               1           201.225                        1                2   \n",
       "2               1           152.237                        0                0   \n",
       "3               2           278.354                        0                5   \n",
       "4               2            84.143                        0                1   \n",
       "\n",
       "   Number of Rotatable Bonds  Polar Surface Area  \\\n",
       "0                          7              202.32   \n",
       "1                          2               42.24   \n",
       "2                          4               17.07   \n",
       "3                          0                0.00   \n",
       "4                          0                0.00   \n",
       "\n",
       "   measured log solubility in mols per litre  \\\n",
       "0                                      -0.77   \n",
       "1                                      -3.30   \n",
       "2                                      -2.06   \n",
       "3                                      -7.87   \n",
       "4                                      -1.33   \n",
       "\n",
       "                                              smiles  \n",
       "0  OCC3OC(OCC2OC(OC(C#N)c1ccccc1)C(O)C(O)C2O)C(O)...  \n",
       "1                             Cc1occc1C(=O)Nc2ccccc2  \n",
       "2                               CC(C)=CCCC(C)=CC(=O)  \n",
       "3                 c1ccc2c(c1)ccc3c2ccc4c5ccccc5ccc43  \n",
       "4                                            c1ccsc1  "
      ]
     },
     "execution_count": 30,
     "metadata": {},
     "output_type": "execute_result"
    }
   ],
   "source": [
    "# Checking the dimensions of the dataframe and the first few rows\n",
    "print(ex_df.shape)\n",
    "ex_df.head()"
   ]
  },
  {
   "cell_type": "markdown",
   "id": "89f778bb-5542-401c-8230-4128f745f073",
   "metadata": {},
   "source": [
    "### Obtain embeddings using seqs_to_embedding"
   ]
  },
  {
   "cell_type": "code",
   "execution_count": 31,
   "id": "2810a5c2-9ce0-466e-96e6-a7d368f8dfdb",
   "metadata": {
    "tags": []
   },
   "outputs": [
    {
     "data": {
      "text/html": [
       "<div>\n",
       "<style scoped>\n",
       "    .dataframe tbody tr th:only-of-type {\n",
       "        vertical-align: middle;\n",
       "    }\n",
       "\n",
       "    .dataframe tbody tr th {\n",
       "        vertical-align: top;\n",
       "    }\n",
       "\n",
       "    .dataframe thead th {\n",
       "        text-align: right;\n",
       "    }\n",
       "</style>\n",
       "<table border=\"1\" class=\"dataframe\">\n",
       "  <thead>\n",
       "    <tr style=\"text-align: right;\">\n",
       "      <th></th>\n",
       "      <th>SMILES</th>\n",
       "      <th>EMBEDDINGS</th>\n",
       "      <th>Y</th>\n",
       "    </tr>\n",
       "  </thead>\n",
       "  <tbody>\n",
       "    <tr>\n",
       "      <th>0</th>\n",
       "      <td>OCC3OC(OCC2OC(OC(C#N)c1ccccc1)C(O)C(O)C2O)C(O)...</td>\n",
       "      <td>[0.4140458106994629, 0.4627712070941925, 0.582...</td>\n",
       "      <td>-0.974</td>\n",
       "    </tr>\n",
       "    <tr>\n",
       "      <th>1</th>\n",
       "      <td>Cc1occc1C(=O)Nc2ccccc2</td>\n",
       "      <td>[-0.1994795948266983, -0.0786716639995575, -0....</td>\n",
       "      <td>-2.885</td>\n",
       "    </tr>\n",
       "    <tr>\n",
       "      <th>2</th>\n",
       "      <td>CC(C)=CCCC(C)=CC(=O)</td>\n",
       "      <td>[-0.4748702049255371, -0.8526585102081299, -0....</td>\n",
       "      <td>-2.579</td>\n",
       "    </tr>\n",
       "    <tr>\n",
       "      <th>3</th>\n",
       "      <td>c1ccc2c(c1)ccc3c2ccc4c5ccccc5ccc43</td>\n",
       "      <td>[-0.2653975486755371, -0.1304905116558075, 0.1...</td>\n",
       "      <td>-6.618</td>\n",
       "    </tr>\n",
       "    <tr>\n",
       "      <th>4</th>\n",
       "      <td>c1ccsc1</td>\n",
       "      <td>[-0.5700850486755371, -0.8756077289581299, 0.1...</td>\n",
       "      <td>-2.232</td>\n",
       "    </tr>\n",
       "    <tr>\n",
       "      <th>...</th>\n",
       "      <td>...</td>\n",
       "      <td>...</td>\n",
       "      <td>...</td>\n",
       "    </tr>\n",
       "    <tr>\n",
       "      <th>1123</th>\n",
       "      <td>FC(F)(F)C(Cl)Br</td>\n",
       "      <td>[0.1985916942358017, 0.2149684727191925, -0.07...</td>\n",
       "      <td>-2.608</td>\n",
       "    </tr>\n",
       "    <tr>\n",
       "      <th>1124</th>\n",
       "      <td>CNC(=O)ON=C(SC)C(=O)N(C)C</td>\n",
       "      <td>[-0.0940108448266983, 0.9334743022918701, -0.3...</td>\n",
       "      <td>-0.908</td>\n",
       "    </tr>\n",
       "    <tr>\n",
       "      <th>1125</th>\n",
       "      <td>CCSCCSP(=S)(OC)OC</td>\n",
       "      <td>[0.6227860450744629, 0.4312770664691925, 0.255...</td>\n",
       "      <td>-3.323</td>\n",
       "    </tr>\n",
       "    <tr>\n",
       "      <th>1126</th>\n",
       "      <td>CCC(C)C</td>\n",
       "      <td>[0.2170243114233017, 0.1397731602191925, -0.07...</td>\n",
       "      <td>-2.245</td>\n",
       "    </tr>\n",
       "    <tr>\n",
       "      <th>1127</th>\n",
       "      <td>COP(=O)(OC)OC(=CCl)c1cc(Cl)c(Cl)cc1Cl</td>\n",
       "      <td>[-0.8112959861755371, -0.9249241352081299, 0.7...</td>\n",
       "      <td>-4.320</td>\n",
       "    </tr>\n",
       "  </tbody>\n",
       "</table>\n",
       "<p>1128 rows × 3 columns</p>\n",
       "</div>"
      ],
      "text/plain": [
       "                                                 SMILES  \\\n",
       "0     OCC3OC(OCC2OC(OC(C#N)c1ccccc1)C(O)C(O)C2O)C(O)...   \n",
       "1                                Cc1occc1C(=O)Nc2ccccc2   \n",
       "2                                  CC(C)=CCCC(C)=CC(=O)   \n",
       "3                    c1ccc2c(c1)ccc3c2ccc4c5ccccc5ccc43   \n",
       "4                                               c1ccsc1   \n",
       "...                                                 ...   \n",
       "1123                                   FC(F)(F)C(Cl)Br    \n",
       "1124                          CNC(=O)ON=C(SC)C(=O)N(C)C   \n",
       "1125                                  CCSCCSP(=S)(OC)OC   \n",
       "1126                                            CCC(C)C   \n",
       "1127              COP(=O)(OC)OC(=CCl)c1cc(Cl)c(Cl)cc1Cl   \n",
       "\n",
       "                                             EMBEDDINGS      Y  \n",
       "0     [0.4140458106994629, 0.4627712070941925, 0.582... -0.974  \n",
       "1     [-0.1994795948266983, -0.0786716639995575, -0.... -2.885  \n",
       "2     [-0.4748702049255371, -0.8526585102081299, -0.... -2.579  \n",
       "3     [-0.2653975486755371, -0.1304905116558075, 0.1... -6.618  \n",
       "4     [-0.5700850486755371, -0.8756077289581299, 0.1... -2.232  \n",
       "...                                                 ...    ...  \n",
       "1123  [0.1985916942358017, 0.2149684727191925, -0.07... -2.608  \n",
       "1124  [-0.0940108448266983, 0.9334743022918701, -0.3... -0.908  \n",
       "1125  [0.6227860450744629, 0.4312770664691925, 0.255... -3.323  \n",
       "1126  [0.2170243114233017, 0.1397731602191925, -0.07... -2.245  \n",
       "1127  [-0.8112959861755371, -0.9249241352081299, 0.7... -4.320  \n",
       "\n",
       "[1128 rows x 3 columns]"
      ]
     },
     "execution_count": 31,
     "metadata": {},
     "output_type": "execute_result"
    }
   ],
   "source": [
    "# DOCUMENTATION: cudf dependency removed\n",
    "# DOCUMENTATION: With the new dataset, the indexes of smiles and x_val are no longer correct (2/3 --> 9/1) so updated to column names directly\n",
    "\n",
    "ex_emb_df = pd.DataFrame()\n",
    "smis = ex_df.loc[:, 'smiles']\n",
    "x_val = ex_df.loc[:, 'ESOL predicted log solubility in mols per litre']\n",
    "embedding = model.seq_to_embeddings(smis.tolist())\n",
    "ex_emb_df = pd.concat([ex_emb_df,\n",
    "                         pd.DataFrame({\"SMILES\": smis,\n",
    "                                         \"EMBEDDINGS\": embedding.tolist(),\n",
    "                                         \"Y\": x_val})])  # The ESOL value is captured in the 'Y' column\n",
    "\n",
    "ex_emb_df"
   ]
  },
  {
   "cell_type": "markdown",
   "id": "2a6777c7-99c3-4cd1-b388-71ed5f164cce",
   "metadata": {},
   "source": [
    "### Obtain Morgan Fingerprints Using RDKit Functionalities"
   ]
  },
  {
   "cell_type": "code",
   "execution_count": 32,
   "id": "1146aaaf-1fb3-40d6-a88b-b8b7905aa860",
   "metadata": {
    "tags": []
   },
   "outputs": [
    {
     "name": "stderr",
     "output_type": "stream",
     "text": [
      "[NeMo W 2024-07-23 22:29:51 nemo_logging:349] <timed exec>:7: DeprecationWarning: The binary mode of fromstring is deprecated, as it behaves surprisingly on unicode inputs. Use frombuffer instead\n",
      "    \n"
     ]
    },
    {
     "name": "stdout",
     "output_type": "stream",
     "text": [
      "CPU times: user 182 ms, sys: 5.45 ms, total: 187 ms\n",
      "Wall time: 186 ms\n"
     ]
    },
    {
     "data": {
      "text/html": [
       "<div>\n",
       "<style scoped>\n",
       "    .dataframe tbody tr th:only-of-type {\n",
       "        vertical-align: middle;\n",
       "    }\n",
       "\n",
       "    .dataframe tbody tr th {\n",
       "        vertical-align: top;\n",
       "    }\n",
       "\n",
       "    .dataframe thead th {\n",
       "        text-align: right;\n",
       "    }\n",
       "</style>\n",
       "<table border=\"1\" class=\"dataframe\">\n",
       "  <thead>\n",
       "    <tr style=\"text-align: right;\">\n",
       "      <th></th>\n",
       "      <th>SMILES</th>\n",
       "      <th>EMBEDDINGS</th>\n",
       "      <th>Y</th>\n",
       "      <th>FINGERPRINT</th>\n",
       "    </tr>\n",
       "  </thead>\n",
       "  <tbody>\n",
       "    <tr>\n",
       "      <th>0</th>\n",
       "      <td>OCC3OC(OCC2OC(OC(C#N)c1ccccc1)C(O)C(O)C2O)C(O)...</td>\n",
       "      <td>[0.4140458106994629, 0.4627712070941925, 0.582...</td>\n",
       "      <td>-0.974</td>\n",
       "      <td>[0, 1, 0, 0, 1, 0, 0, 0, 0, 0, 0, 0, 0, 1, 0, ...</td>\n",
       "    </tr>\n",
       "    <tr>\n",
       "      <th>1</th>\n",
       "      <td>Cc1occc1C(=O)Nc2ccccc2</td>\n",
       "      <td>[-0.1994795948266983, -0.0786716639995575, -0....</td>\n",
       "      <td>-2.885</td>\n",
       "      <td>[0, 0, 0, 0, 0, 0, 0, 0, 0, 0, 0, 0, 0, 0, 0, ...</td>\n",
       "    </tr>\n",
       "    <tr>\n",
       "      <th>2</th>\n",
       "      <td>CC(C)=CCCC(C)=CC(=O)</td>\n",
       "      <td>[-0.4748702049255371, -0.8526585102081299, -0....</td>\n",
       "      <td>-2.579</td>\n",
       "      <td>[0, 0, 0, 0, 0, 0, 0, 0, 0, 0, 0, 0, 0, 0, 0, ...</td>\n",
       "    </tr>\n",
       "    <tr>\n",
       "      <th>3</th>\n",
       "      <td>c1ccc2c(c1)ccc3c2ccc4c5ccccc5ccc43</td>\n",
       "      <td>[-0.2653975486755371, -0.1304905116558075, 0.1...</td>\n",
       "      <td>-6.618</td>\n",
       "      <td>[0, 0, 0, 0, 0, 0, 0, 0, 0, 0, 0, 0, 0, 0, 0, ...</td>\n",
       "    </tr>\n",
       "    <tr>\n",
       "      <th>4</th>\n",
       "      <td>c1ccsc1</td>\n",
       "      <td>[-0.5700850486755371, -0.8756077289581299, 0.1...</td>\n",
       "      <td>-2.232</td>\n",
       "      <td>[0, 0, 0, 0, 0, 0, 0, 0, 0, 0, 0, 0, 0, 0, 1, ...</td>\n",
       "    </tr>\n",
       "    <tr>\n",
       "      <th>...</th>\n",
       "      <td>...</td>\n",
       "      <td>...</td>\n",
       "      <td>...</td>\n",
       "      <td>...</td>\n",
       "    </tr>\n",
       "    <tr>\n",
       "      <th>1123</th>\n",
       "      <td>FC(F)(F)C(Cl)Br</td>\n",
       "      <td>[0.1985916942358017, 0.2149684727191925, -0.07...</td>\n",
       "      <td>-2.608</td>\n",
       "      <td>[0, 1, 0, 0, 0, 0, 0, 0, 0, 0, 0, 0, 0, 0, 0, ...</td>\n",
       "    </tr>\n",
       "    <tr>\n",
       "      <th>1124</th>\n",
       "      <td>CNC(=O)ON=C(SC)C(=O)N(C)C</td>\n",
       "      <td>[-0.0940108448266983, 0.9334743022918701, -0.3...</td>\n",
       "      <td>-0.908</td>\n",
       "      <td>[0, 0, 0, 0, 0, 0, 0, 0, 0, 0, 1, 0, 0, 0, 0, ...</td>\n",
       "    </tr>\n",
       "    <tr>\n",
       "      <th>1125</th>\n",
       "      <td>CCSCCSP(=S)(OC)OC</td>\n",
       "      <td>[0.6227860450744629, 0.4312770664691925, 0.255...</td>\n",
       "      <td>-3.323</td>\n",
       "      <td>[0, 0, 0, 0, 0, 0, 0, 0, 0, 0, 0, 0, 0, 0, 0, ...</td>\n",
       "    </tr>\n",
       "    <tr>\n",
       "      <th>1126</th>\n",
       "      <td>CCC(C)C</td>\n",
       "      <td>[0.2170243114233017, 0.1397731602191925, -0.07...</td>\n",
       "      <td>-2.245</td>\n",
       "      <td>[0, 1, 0, 0, 0, 0, 0, 0, 0, 0, 0, 0, 0, 0, 0, ...</td>\n",
       "    </tr>\n",
       "    <tr>\n",
       "      <th>1127</th>\n",
       "      <td>COP(=O)(OC)OC(=CCl)c1cc(Cl)c(Cl)cc1Cl</td>\n",
       "      <td>[-0.8112959861755371, -0.9249241352081299, 0.7...</td>\n",
       "      <td>-4.320</td>\n",
       "      <td>[0, 0, 0, 0, 0, 0, 0, 0, 0, 0, 0, 0, 0, 0, 0, ...</td>\n",
       "    </tr>\n",
       "  </tbody>\n",
       "</table>\n",
       "<p>1128 rows × 4 columns</p>\n",
       "</div>"
      ],
      "text/plain": [
       "                                                 SMILES  \\\n",
       "0     OCC3OC(OCC2OC(OC(C#N)c1ccccc1)C(O)C(O)C2O)C(O)...   \n",
       "1                                Cc1occc1C(=O)Nc2ccccc2   \n",
       "2                                  CC(C)=CCCC(C)=CC(=O)   \n",
       "3                    c1ccc2c(c1)ccc3c2ccc4c5ccccc5ccc43   \n",
       "4                                               c1ccsc1   \n",
       "...                                                 ...   \n",
       "1123                                   FC(F)(F)C(Cl)Br    \n",
       "1124                          CNC(=O)ON=C(SC)C(=O)N(C)C   \n",
       "1125                                  CCSCCSP(=S)(OC)OC   \n",
       "1126                                            CCC(C)C   \n",
       "1127              COP(=O)(OC)OC(=CCl)c1cc(Cl)c(Cl)cc1Cl   \n",
       "\n",
       "                                             EMBEDDINGS      Y  \\\n",
       "0     [0.4140458106994629, 0.4627712070941925, 0.582... -0.974   \n",
       "1     [-0.1994795948266983, -0.0786716639995575, -0.... -2.885   \n",
       "2     [-0.4748702049255371, -0.8526585102081299, -0.... -2.579   \n",
       "3     [-0.2653975486755371, -0.1304905116558075, 0.1... -6.618   \n",
       "4     [-0.5700850486755371, -0.8756077289581299, 0.1... -2.232   \n",
       "...                                                 ...    ...   \n",
       "1123  [0.1985916942358017, 0.2149684727191925, -0.07... -2.608   \n",
       "1124  [-0.0940108448266983, 0.9334743022918701, -0.3... -0.908   \n",
       "1125  [0.6227860450744629, 0.4312770664691925, 0.255... -3.323   \n",
       "1126  [0.2170243114233017, 0.1397731602191925, -0.07... -2.245   \n",
       "1127  [-0.8112959861755371, -0.9249241352081299, 0.7... -4.320   \n",
       "\n",
       "                                            FINGERPRINT  \n",
       "0     [0, 1, 0, 0, 1, 0, 0, 0, 0, 0, 0, 0, 0, 1, 0, ...  \n",
       "1     [0, 0, 0, 0, 0, 0, 0, 0, 0, 0, 0, 0, 0, 0, 0, ...  \n",
       "2     [0, 0, 0, 0, 0, 0, 0, 0, 0, 0, 0, 0, 0, 0, 0, ...  \n",
       "3     [0, 0, 0, 0, 0, 0, 0, 0, 0, 0, 0, 0, 0, 0, 0, ...  \n",
       "4     [0, 0, 0, 0, 0, 0, 0, 0, 0, 0, 0, 0, 0, 0, 1, ...  \n",
       "...                                                 ...  \n",
       "1123  [0, 1, 0, 0, 0, 0, 0, 0, 0, 0, 0, 0, 0, 0, 0, ...  \n",
       "1124  [0, 0, 0, 0, 0, 0, 0, 0, 0, 0, 1, 0, 0, 0, 0, ...  \n",
       "1125  [0, 0, 0, 0, 0, 0, 0, 0, 0, 0, 0, 0, 0, 0, 0, ...  \n",
       "1126  [0, 1, 0, 0, 0, 0, 0, 0, 0, 0, 0, 0, 0, 0, 0, ...  \n",
       "1127  [0, 0, 0, 0, 0, 0, 0, 0, 0, 0, 0, 0, 0, 0, 0, ...  \n",
       "\n",
       "[1128 rows x 4 columns]"
      ]
     },
     "execution_count": 32,
     "metadata": {},
     "output_type": "execute_result"
    }
   ],
   "source": [
    "%%time\n",
    "# Here, we will define a function to return Morgan Fingerprints for a list of input SMILES\n",
    "def get_fp_arr(df_smi):\n",
    "    fp_array = []\n",
    "    for smi in df_smi:\n",
    "        m = Chem.MolFromSmiles(smi)                               # Converting SMILES to RD-Kit's MOL format\n",
    "        fp =  AllChem.GetMorganFingerprintAsBitVect(m, 3, 1024)   # Obtain Morgan Fingerprints as a Bit-vector\n",
    "        fp = np.fromstring(fp.ToBitString(), 'u1') - ord('0')     # Converting Bit-vector to string type\n",
    "        fp_array.append(fp)\n",
    "    fp_array = np.asarray(fp_array)\n",
    "    return fp_array.tolist()\n",
    "\n",
    "# Passing the SMILES list to the get_fp_arr function, and saving the returned list of Morgan Fingerprints as a DataFrame column named 'FINGERPRINTS'\n",
    "ex_emb_df['FINGERPRINT'] = get_fp_arr(ex_emb_df['SMILES'].tolist())\n",
    "\n",
    "# Let's take a look at the DataFrame after Morgan_Fingerprint calculation\n",
    "ex_emb_df"
   ]
  },
  {
   "cell_type": "markdown",
   "id": "41be32dd-194c-4f2a-99be-4283da5ea373",
   "metadata": {},
   "source": [
    "## ML Model Generation"
   ]
  },
  {
   "cell_type": "markdown",
   "id": "9ca4d98f-b6bc-4b3d-9d4c-60f94b9d0e75",
   "metadata": {},
   "source": [
    "### SVR Model: Predicting ESOL Using Morgan Fingerprints"
   ]
  },
  {
   "cell_type": "code",
   "execution_count": 113,
   "id": "823ba495-15dc-41fe-b2e7-bf2b14b4fd6a",
   "metadata": {
    "tags": []
   },
   "outputs": [
    {
     "name": "stdout",
     "output_type": "stream",
     "text": [
      "Fingerprint_SVR_MSE:  0.7641448155400202\n",
      "Fingerprint_SVR_r2:  0.7368847287139371\n"
     ]
    }
   ],
   "source": [
    "# Splitting the input dataset into Training (70%) and Test sets(30%)\n",
    "tempX = np.asarray(ex_emb_df['FINGERPRINT'].tolist(), dtype=np.float32)\n",
    "tempY = np.asarray(ex_emb_df['Y'], dtype=np.float32)\n",
    "x_train, x_test_mfp, y_train, y_test_mfp  = train_test_split(tempX, tempY, train_size=0.7, random_state=1993)\n",
    "\n",
    "# Defining Support vector regression model parameters \n",
    "reg_mfp = SVR(kernel='rbf', gamma='scale', C=10, epsilon=0.1)     # You may change the model parameters and observe the change in the performance\n",
    "\n",
    "# Fitting the model on the training dataset\n",
    "# cupy worked until here - but cannot convert to numpy array now - removing all rapids\n",
    "reg_mfp.fit(x_train, y_train)\n",
    "# SVR()\n",
    "\n",
    "pred_mfp = reg_mfp.predict(x_test_mfp)\n",
    "\n",
    "# Performance measures of SVR model - Mean Squared Error and R-squared values\n",
    "mfp_SVR_MSE = mean_squared_error(y_test_mfp, pred_mfp)\n",
    "mfp_SVR_R2 = r2_score(y_test_mfp, pred_mfp)\n",
    "\n",
    "print(\"Fingerprint_SVR_MSE: \", mfp_SVR_MSE)\n",
    "print(\"Fingerprint_SVR_r2: \", mfp_SVR_R2)"
   ]
  },
  {
   "cell_type": "markdown",
   "id": "b3d8203d-5380-42b0-8422-435fda11b945",
   "metadata": {},
   "source": [
    "### SVR Model: Predicting ESOL Using MolMIM Embeddings"
   ]
  },
  {
   "cell_type": "code",
   "execution_count": 114,
   "id": "275c7749-fd46-4277-bba6-b51a20b45922",
   "metadata": {},
   "outputs": [
    {
     "name": "stdout",
     "output_type": "stream",
     "text": [
      "Embeddings_SVR_MSE:  0.8740699179366671\n",
      "Embeddings_SVR_r2:  0.6990346084879662\n"
     ]
    }
   ],
   "source": [
    "### Using BioNeMo-MolMIM Embeddings for developing a SVR model ###\n",
    "\n",
    "# Splitting dataset into training and testing sets\n",
    "tempX = np.asarray(ex_emb_df['EMBEDDINGS'].tolist(), dtype=np.float32)\n",
    "tempY = np.asarray(ex_emb_df['Y'], dtype=np.float32)\n",
    "x_train, x_test_emb, y_train, y_test_emb  = train_test_split(tempX, tempY, train_size=0.7, random_state=1993)\n",
    "\n",
    "# Defining Support vector regression model parameters \n",
    "reg_emb = SVR(kernel='rbf', gamma='scale', C=10, epsilon=0.1)    # You may change the model parameters and observe the change in the performance\n",
    "\n",
    "# Fitting the model on the training dataset\n",
    "reg_emb.fit(x_train, y_train)\n",
    "\n",
    "# Using the fitted model for prediction of the ESOL values for the test dataset compounds\n",
    "pred_emb = reg_emb.predict(x_test_emb)\n",
    "\n",
    "# Performance measures of SVR model\n",
    "emb_SVR_MSE = mean_squared_error(y_test_emb, pred_emb)\n",
    "emb_SVR_R2 = r2_score(y_test_emb, pred_emb)\n",
    "\n",
    "print(\"Embeddings_SVR_MSE: \", emb_SVR_MSE)\n",
    "print(\"Embeddings_SVR_r2: \", emb_SVR_R2)"
   ]
  },
  {
   "cell_type": "markdown",
   "id": "d22a89b9-a987-406a-8b43-0d7625e3130d",
   "metadata": {},
   "source": [
    "### Results"
   ]
  },
  {
   "cell_type": "code",
   "execution_count": 106,
   "id": "26a473fd-8464-4b28-a51f-c7562d653a22",
   "metadata": {
    "tags": []
   },
   "outputs": [
    {
     "data": {
      "text/plain": [
       "<matplotlib.legend.Legend at 0x7fc7b92f6620>"
      ]
     },
     "execution_count": 106,
     "metadata": {},
     "output_type": "execute_result"
    },
    {
     "data": {
      "image/png": "[encoded data removed]",
      "text/plain": [
       "<Figure size 640x480 with 1 Axes>"
      ]
     },
     "metadata": {},
     "output_type": "display_data"
    }
   ],
   "source": [
    "plt.rcParams.update({'font.size': 14})\n",
    "data = [[mfp_SVR_MSE, mfp_SVR_R2], [emb_SVR_MSE, emb_SVR_R2]]\n",
    "X = np.arange(2)\n",
    "fig = plt.figure()\n",
    "ax = fig.add_axes([0,0,1,1])\n",
    "ax.bar(X + 0.00, data[0], color = 'b', width = 0.20)\n",
    "ax.bar(X + 0.20, data[1], color = '#76b900', width = 0.20)\n",
    "ax.set_xticks([0.1, 1.1])\n",
    "ax.set_xticklabels(['[MSE] \\n Mean Squared Error', '$R^2$'])\n",
    "ax.legend(['Morgan Fingerprints', 'MolMIM Embeddings'],loc='best')"
   ]
  },
  {
   "cell_type": "code",
   "execution_count": null,
   "id": "2529a87b-e473-43c8-86b4-dda68ca449bb",
   "metadata": {},
   "outputs": [],
   "source": []
  }
 ],
 "metadata": {
  "kernelspec": {
   "display_name": "Python 3 (ipykernel)",
   "language": "python",
   "name": "python3"
  },
  "language_info": {
   "codemirror_mode": {
    "name": "ipython",
    "version": 3
   },
   "file_extension": ".py",
   "mimetype": "text/x-python",
   "name": "python",
   "nbconvert_exporter": "python",
   "pygments_lexer": "ipython3",
   "version": "3.10.12"
  }
 },
 "nbformat": 4,
 "nbformat_minor": 5
}
