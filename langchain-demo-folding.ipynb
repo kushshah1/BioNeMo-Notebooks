{
 "cells": [
  {
   "cell_type": "markdown",
   "metadata": {},
   "source": [
    "# Augmenting LLM NIMs with BioNeMo through LangChain"
   ]
  },
  {
   "cell_type": "markdown",
   "metadata": {},
   "source": [
    "In this notebook, we will take the first step in building a chatbot which has the ability to call on BioNeMo tools. This demo will combine various technologies and use an NVIDIA LLM NIM (Llama 3.1) as an orchestrator and a BioNeMo NIM (ESMFold) as the tool. The orchestration framework in this demo is LangChain/LangGraph."
   ]
  },
  {
   "cell_type": "markdown",
   "metadata": {},
   "source": [
    "## Setup"
   ]
  },
  {
   "cell_type": "markdown",
   "metadata": {},
   "source": [
    "Start by importing required libraries:"
   ]
  },
  {
   "cell_type": "code",
   "execution_count": 1,
   "metadata": {},
   "outputs": [],
   "source": [
    "import warnings\n",
    "warnings.filterwarnings('ignore')"
   ]
  },
  {
   "cell_type": "code",
   "execution_count": null,
   "metadata": {},
   "outputs": [],
   "source": [
    "from langchain_core.pydantic_v1 import Field\n",
    "from langchain_core.tools import tool\n",
    "from langchain_nvidia_ai_endpoints import ChatNVIDIA\n",
    "from langgraph.prebuilt import create_react_agent\n",
    "import requests"
   ]
  },
  {
   "cell_type": "markdown",
   "metadata": {},
   "source": [
    "We can first explore which NVIDIA LLM NIMs support tool calling and structured outputs. This will print a list of our current options."
   ]
  },
  {
   "cell_type": "code",
   "execution_count": 3,
   "metadata": {},
   "outputs": [
    {
     "name": "stdout",
     "output_type": "stream",
     "text": [
      "id='meta/llama-3.1-405b-instruct' model_type='chat' client='ChatNVIDIA' endpoint=None aliases=None supports_tools=True supports_structured_output=True base_model=None\n",
      "id='meta/llama-3.1-70b-instruct' model_type='chat' client='ChatNVIDIA' endpoint=None aliases=None supports_tools=True supports_structured_output=True base_model=None\n",
      "id='meta/llama-3.1-8b-instruct' model_type='chat' client='ChatNVIDIA' endpoint=None aliases=None supports_tools=True supports_structured_output=True base_model=None\n",
      "id='nv-mistralai/mistral-nemo-12b-instruct' model_type='chat' client='ChatNVIDIA' endpoint=None aliases=None supports_tools=True supports_structured_output=True base_model=None\n",
      "id='meta/llama-3.2-3b-instruct' model_type='chat' client='ChatNVIDIA' endpoint=None aliases=None supports_tools=True supports_structured_output=True base_model=None\n",
      "id='mistralai/mistral-large-2-instruct' model_type='chat' client='ChatNVIDIA' endpoint=None aliases=None supports_tools=True supports_structured_output=True base_model=None\n"
     ]
    }
   ],
   "source": [
    "tool_models = [model for model in ChatNVIDIA.get_available_models() if model.supports_tools]\n",
    "for elem in tool_models:\n",
    "    print(elem)"
   ]
  },
  {
   "cell_type": "markdown",
   "metadata": {},
   "source": [
    "From this list, we'll go with `llama-3.1-70b-instruct`. First, set your API key:"
   ]
  },
  {
   "cell_type": "code",
   "execution_count": null,
   "metadata": {},
   "outputs": [],
   "source": [
    "API_KEY = \"Enter API Key here\""
   ]
  },
  {
   "cell_type": "code",
   "execution_count": null,
   "metadata": {},
   "outputs": [],
   "source": []
  },
  {
   "cell_type": "markdown",
   "metadata": {},
   "source": [
    "## Access Base LLM"
   ]
  },
  {
   "cell_type": "markdown",
   "metadata": {},
   "source": [
    "We'll set up the LLM through LangChain's ChatNVIDIA functionality, which provides an interface to NVIDIA NIM chat models. It offers connection to both hosted and local NIMs (Mistral, Llama, etc.), tool calling capabilities, streaming functionality, etc."
   ]
  },
  {
   "cell_type": "code",
   "execution_count": null,
   "metadata": {},
   "outputs": [],
   "source": [
    "# NVIDIA-hosted API endpoint\n",
    "model = ChatNVIDIA(model=\"meta/llama-3.1-70b-instruct\", api_key=API_KEY)\n",
    "\n",
    "# Locally-hosted model example\n",
    "# model = ChatNVIDIA(base_url=\"http://3.145.171.211:8000/v1\", model_name=\"meta/llama-3.1-8b-instruct\") "
   ]
  },
  {
   "cell_type": "markdown",
   "metadata": {},
   "source": [
    "Let's try a simple question about proteins:"
   ]
  },
  {
   "cell_type": "code",
   "execution_count": 6,
   "metadata": {},
   "outputs": [
    {
     "name": "stdout",
     "output_type": "stream",
     "text": [
      "Proteins are made up of smaller units called amino acids, which are linked together in a chain. These amino acid chains are the building blocks of proteins.\n",
      "\n",
      "There are 20 different amino acids that are commonly found in nature, and they are the foundation of all proteins. These amino acids include:\n",
      "\n",
      "1. Alanine (Ala or A)\n",
      "2. Arginine (Arg or R)\n",
      "3. Asparagine (Asn or N)\n",
      "4. Aspartic acid (Asp or D)\n",
      "5. Cysteine (Cys or C)\n",
      "6. Glutamic acid (Glu or E)\n",
      "7. Glutamine (Gln or Q)\n",
      "8. Glycine (Gly or G)\n",
      "9. Histidine (His or H)\n",
      "10. Isoleucine (Ile or I)\n",
      "11. Leucine (Leu or L)\n",
      "12. Lysine (Lys or K)\n",
      "13. Methionine (Met or M)\n",
      "14. Phenylalanine (Phe or F)\n",
      "15. Proline (Pro or P)\n",
      "16. Serine (Ser or S)\n",
      "17. Threonine (Thr or T)\n",
      "18. Tryptophan (Trp or W)\n",
      "19. Tyrosine (Tyr or Y)\n",
      "20. Valine (Val or V)\n",
      "\n",
      "When these amino acids are linked together in a chain, they form a protein. The sequence of amino acids in a protein is known as the primary structure, and it determines the protein's three-dimensional shape and function.\n",
      "\n",
      "Here's a rough outline of how proteins are structured:\n",
      "\n",
      "1. **Primary structure**: The sequence of amino acids in a protein.\n",
      "2. **Secondary structure**: The local arrangements of amino acids, such as alpha helices and beta sheets.\n",
      "3. **Tertiary structure**: The three-dimensional shape of a protein, which is determined by the primary and secondary structures.\n",
      "4. **Quaternary structure**: The arrangement of multiple polypeptide chains (subunits) in a protein.\n",
      "\n",
      "So, in summary, proteins are made up of amino acids linked together in a chain, which folds into a specific three-dimensional shape that determines the protein's function!\n"
     ]
    }
   ],
   "source": [
    "result = model.invoke(\"What are protiens made of?\")\n",
    "print(result.content)"
   ]
  },
  {
   "cell_type": "markdown",
   "metadata": {},
   "source": [
    "We can see that the model gives a fair answer. Now, let's ask the model to predict the 3D structure of a protein sequence:"
   ]
  },
  {
   "cell_type": "code",
   "execution_count": 7,
   "metadata": {},
   "outputs": [
    {
     "name": "stdout",
     "output_type": "stream",
     "text": [
      "To determine the structure of a protein sequence, we would typically rely on various bioinformatics tools and prediction methods. However, without running specific predictions or accessing a database that might store pre-computed structures for sequences, I can offer a general approach on how one might analyze or predict the structure of this sequence.\n",
      "\n",
      "The sequence MALLWMRLLPLLALLALWGPD looks like a segment of a protein, potentially from a membrane protein given the high content of hydrophobic amino acids (L, W, A, M), which are typical components of the transmembrane domains of membrane proteins.\n",
      "\n",
      "To predict the structure, here's a step-by-step process:\n",
      "\n",
      "1. **Sequence Alignment and Similarity Search**: Tools like BLAST could be used to search for similar sequences in databases to identify potential homologues with known structures. This can give clues about the secondary and tertiary structure.\n",
      "\n",
      "2. **Secondary Structure Prediction**: Tools such as JPred, PSIPRED, or CSSP can predict the secondary structure (alpha-helices, beta-sheets) based on the amino acid sequence. Hydrophobicity plots, such as those generated by Kyte-Doolittle or Hopp-Woods scales, can indicate transmembrane regions for membrane proteins.\n",
      "\n",
      "3. **Tertiary Structure Modeling**: Using homology modeling tools like SWISS-MODEL or Phyre2, one could create a 3D model of the protein's structure if a suitable template with a known structure can be identified in databases like the Protein Data Bank (PDB). This is especially effective if the sequence shows a high degree of similarity to proteins of known structures.\n",
      "\n",
      "4. **Ab Initio Structure Prediction**: For sequences without similar structures in the database, ab initio (from scratch) prediction methods, such as Rosetta or QUARK, can be attempted. These methods try to predict the structure by simulating protein folding or using models of local structural propensities.\n",
      "\n",
      "5. **Protein-Protein Interaction or Docking**: This involves predicting how proteins interact with other proteins or molecules, which is beyond primary sequence analysis but could provide insight into the protein's function and perhaps suggest structural motifs based on known protein-protein interaction complexes.\n",
      "\n",
      "Without executing these steps directly, it's challenging to provide a precise structure for the given protein sequence. The exact structure would depend on various biological, chemical, and physical constraints that can be assessed using experimental methods (e.g., X-ray crystallography, NMR spectroscopy) and bioinformatics tools.\n",
      "\n",
      "If you need precise predictions, I recommend consulting databases (e.g., UniProt, PDB), using specific bioinformatics tools (as mentioned), and checking literature sources for any pre-existing structural information on similar proteins.\n"
     ]
    }
   ],
   "source": [
    "result = model.invoke(\"What is the structure of protein sequence MALLWMRLLPLLALLALWGPD?\")\n",
    "print(result.content)"
   ]
  },
  {
   "cell_type": "markdown",
   "metadata": {},
   "source": [
    "Here, the model outputs the steps involved in structure prediction and also suggests that the structure will be alpha-helical with possible beta-sheet elements. But what if we want something more accurate? We can connect the LLM to a structure prediction tool such as ESMFold so that it can actually predict the atomic-level 3D structure when prompted."
   ]
  },
  {
   "cell_type": "markdown",
   "metadata": {},
   "source": [
    "## Create the Orchestration Agent "
   ]
  },
  {
   "cell_type": "markdown",
   "metadata": {},
   "source": [
    "Now, we want to give the LLM access to the BioNeMo NIM, ESMFold, for protein structure prediction. Let's define a function to invoke the ESMFold NIM, either the NVIDIA-hosted version (using credits on [build.nvidia.com](build.nvidia.com)) or a self-hosted version."
   ]
  },
  {
   "cell_type": "code",
   "execution_count": 8,
   "metadata": {},
   "outputs": [],
   "source": [
    "def invoke_esmfold_nim(sequence):\n",
    "    # Code for NVIDIA-hosted model\n",
    "    invoke_url = \"https://health.api.nvidia.com/v1/biology/nvidia/esmfold\"\n",
    "    headers = {\n",
    "        \"Authorization\": f\"Bearer {API_KEY}\",\n",
    "        \"Accept\": \"application/json\",\n",
    "    }\n",
    "\n",
    "    # Code for locally-hosted model\n",
    "    # invoke_url = \"http://3.145.171.211:8008/protein-structure/esmfold/predict\"\n",
    "    # headers = {\n",
    "    #     \"accept\": \"application/json\",\n",
    "    #     \"Content-Type\": \"application/json\"\n",
    "    # }\n",
    "\n",
    "    payload = {\n",
    "        \"sequence\": sequence\n",
    "    }\n",
    "    \n",
    "    session = requests.Session()\n",
    "    response = session.post(invoke_url, headers=headers, json=payload)\n",
    "    response.raise_for_status()\n",
    "    response_body = response.json()\n",
    "    return(response_body)\n"
   ]
  },
  {
   "cell_type": "markdown",
   "metadata": {},
   "source": [
    "Let's also write a function that saves ESMFold output locally as a pdb file."
   ]
  },
  {
   "cell_type": "code",
   "execution_count": 9,
   "metadata": {},
   "outputs": [],
   "source": [
    "def save_esmfold_output(response_json, output_file=\"proteins/protein.pdb\"):\n",
    "\n",
    "    # Extract the PDB content from the response\n",
    "    pdb_content = response_json[\"pdbs\"][0]\n",
    "    #print(\"PDB CONTENT\", pdb_content)\n",
    "\n",
    "    # Find the start of the MODEL section\n",
    "    model_start = pdb_content.find(\"MODEL\")\n",
    "    \n",
    "    # Write the cleaned PDB content to a file\n",
    "    with open(output_file, \"w\") as f:\n",
    "        f.write(pdb_content[model_start:])"
   ]
  },
  {
   "cell_type": "markdown",
   "metadata": {},
   "source": [
    "Now, let's bring the above functions together in a tool which we will make available to the LLM. We give the function the `@tool` decorator, a descriptive docstring, and argument descriptions."
   ]
  },
  {
   "cell_type": "code",
   "execution_count": 10,
   "metadata": {},
   "outputs": [],
   "source": [
    "@tool(return_direct=True)\n",
    "def predict_protein_structure(\n",
    "    sequence: str = Field(..., description=\"The amino acid sequence of the protein\")\n",
    ") -> str:\n",
    "    \"\"\"Predict the 3D structure of a protein from its amino acid sequence.\"\"\"\n",
    "\n",
    "    # Step 1\n",
    "    response_body = invoke_esmfold_nim(sequence)\n",
    "\n",
    "    # Step 2\n",
    "    save_esmfold_output(response_body)\n",
    "\n",
    "    # Output Text\n",
    "    default_head = f'For the sequence {sequence}, below are the atomic coordinates of the predicted 3D structure. I have also saved a copy of the outputted PDB file locally.\\n'\n",
    "    full_response = default_head + str(response_body)\n",
    "    \n",
    "    return full_response"
   ]
  },
  {
   "cell_type": "markdown",
   "metadata": {},
   "source": [
    "We can now bring it all together by defining an agent as the combination of the model and the tool(s) it has access to. This is done through LangGraph's `create_react_agent()` functionality which creates an agent that uses ReAct prompting based on the paper, [ReAct: Synergizing Reasoning and Acting in Language Models](https://arxiv.org/pdf/2210.03629). Under the hood, the `.bind_tools(tools)` functionality is called.\n",
    "\n",
    "The LangChain Framework is designed in such a way that when we bring the tool and model together, the model will have access to not just the tool itself, but the tool description (docstring), expected input/output formats, and the tool name. When this becomes part of the model's context, it will allow the model to understand what the tool does, when to use it, and how to format tool calls correctly (including what inputs to pass into the tool, based on the user's prompt)."
   ]
  },
  {
   "cell_type": "code",
   "execution_count": 11,
   "metadata": {},
   "outputs": [],
   "source": [
    "agent = create_react_agent(model, tools=[predict_protein_structure])"
   ]
  },
  {
   "cell_type": "markdown",
   "metadata": {},
   "source": [
    "We can now invoke the agent with a query!"
   ]
  },
  {
   "cell_type": "code",
   "execution_count": 12,
   "metadata": {},
   "outputs": [
    {
     "name": "stdout",
     "output_type": "stream",
     "text": [
      "For the sequence MALLWMRLLPLLALLALWGPD, below are the atomic coordinates of the predicted 3D structure. I have also saved a copy of the outputted PDB file locally.\n",
      "{'pdbs': ['PARENT N/A                                                                      \\nMODEL     1                                                                     \\nATOM      1  N   MET A   1     -10.468  -4.505 -10.957  1.00 74.34           N  \\nATOM      2  CA  MET A   1     -10.264  -3.404 -10.020  1.00 75.18           C  \\nATOM      3  C   MET A   1      -9.672  -3.909  -8.709  1.00 76.65           C  \\nATOM      4  CB  MET A   1     -11.581  -2.673  -9.754  1.00 69.38           C  \\nATOM      5  O   MET A   1      -8.814  -3.252  -8.116  1.00 74.45           O  \\nATOM      6  CG  MET A   1     -11.911  -1.608 -10.786  1.00 63.38           C  \\nATOM      7  SD  MET A   1     -11.705   0.094 -10.132  1.00 60.39           S  \\nATOM      8  CE  MET A   1     -10.775   0.851 -11.493  1.00 54.19           C  \\nATOM      9  N   ALA A   2     -10.128  -5.002  -8.234  1.00 80.92           N  \\nATOM     10  CA  ALA A   2      -9.678  -5.577  -6.969  1.00 80.99           C  \\nATOM     11  C   ALA A   2      -8.175  -5.844  -6.992  1.00 80.46           C  \\nATOM     12  CB  ALA A   2     -10.439  -6.867  -6.670  1.00 76.39           C  \\nATOM     13  O   ALA A   2      -7.496  -5.686  -5.975  1.00 77.40           O  \\nATOM     14  N   LEU A   3      -7.777  -6.228  -8.238  1.00 83.71           N  \\nATOM     15  \n"
     ]
    }
   ],
   "source": [
    "def process_query(query: str):\n",
    "    result = agent.invoke({\n",
    "        \"messages\": [{\"role\": \"user\", \"content\": query}]\n",
    "    })\n",
    "    return result[\"messages\"][-1].content\n",
    "\n",
    "# Ask the same question again\n",
    "protein_query = \"What is the structure of protein sequence MALLWMRLLPLLALLALWGPD?\"\n",
    "result = process_query(protein_query)\n",
    "#print(result)\n",
    "print(result[:1500]) # truncate output"
   ]
  },
  {
   "cell_type": "markdown",
   "metadata": {},
   "source": [
    "It works! The agent deemed tool usage as necessary, successfully called the ESMFold NIM, and parsed the user prompt such that only the amino acid sequence, MALLWMRLLPLLALLALWGPD, was inputted. We've truncated the output length for this demo, but the tool call was also built to save a pdb file locally. Let's load that file and visualize the protein structure."
   ]
  },
  {
   "cell_type": "code",
   "execution_count": 13,
   "metadata": {},
   "outputs": [
    {
     "data": {
      "application/vnd.jupyter.widget-view+json": {
       "model_id": "28f13d8a2add481991e40e92ca956b55",
       "version_major": 2,
       "version_minor": 0
      },
      "text/plain": []
     },
     "metadata": {},
     "output_type": "display_data"
    },
    {
     "data": {
      "application/vnd.jupyter.widget-view+json": {
       "model_id": "30f651cb46d6459184658e35023adec8",
       "version_major": 2,
       "version_minor": 0
      },
      "text/plain": [
       "NGLWidget()"
      ]
     },
     "metadata": {},
     "output_type": "display_data"
    }
   ],
   "source": [
    "import nglview as nv\n",
    "from Bio import PDB\n",
    "\n",
    "# Load and display the saved structure\n",
    "parser = PDB.PDBParser(QUIET=True)\n",
    "structure = parser.get_structure(\"protein\", \"proteins/protein.pdb\")\n",
    "view = nv.show_biopython(structure)\n",
    "view"
   ]
  },
  {
   "cell_type": "markdown",
   "metadata": {},
   "source": [
    "It is worth confirming that the agent is intelligent enough to determine when to invoke the tool (not calling the tool by default). We can check that by asking it a general question about proteins (not involving structure prediction of a specific protein) and ensuring it does not wrongly call the tool:"
   ]
  },
  {
   "cell_type": "code",
   "execution_count": 14,
   "metadata": {},
   "outputs": [
    {
     "name": "stdout",
     "output_type": "stream",
     "text": [
      "Proteins are made up of amino acids, which are the building blocks of proteins. Amino acids are organic compounds that contain a central carbon atom bonded to an amino group (-NH2), a carboxyl group (-COOH), a hydrogen atom, and a side chain (also known as a residue) that varies depending on the specific amino acid. The sequence of amino acids in a protein determines its structure and function. There are 20 different amino acids that the human body uses to build proteins.\n"
     ]
    }
   ],
   "source": [
    "protein_query = \"What are proteins made of?\"\n",
    "result = process_query(protein_query)\n",
    "print(result)"
   ]
  },
  {
   "cell_type": "markdown",
   "metadata": {},
   "source": [
    "It is worth noting that in most tool use-cases, we want the orchestrator model not to directly output the tool's result, but to have access to the tool's result when forming an answer. For example, if a weather tool returned local weather in a specific format (e.g. `{\"city\":\"San Francisco\", \"temperature\":\"62 degrees\"}`), the orchestrator accessing this information should turn it into something like `It is currently 62 degrees in San Francisco.` In our case, however, we wanted to directly return the exact predicted protein structure when ESMFold was invoked. This behavior is handled by the `@tool` decorator:\n",
    "\n",
    "`@tool:`\n",
    "* The tool's output is passed back to the LLM for further processing.\n",
    "* The LLM can generate additional text or summaries based on the tool's output.\n",
    "* Allows for continued agent reasoning and potential additional tool calls.\n",
    "\n",
    "`@tool(return_direct=True):`\n",
    "* The tool's output is returned directly to the user without any further LLM processing.\n",
    "* Stops the agent's reasoning loop immediately after the tool executes.\n",
    "\n",
    "In our case, we used the latter. This is shown below through directly printing the verbose output of `agent.invoke()`, which shows the reasoning loop.\n"
   ]
  },
  {
   "cell_type": "code",
   "execution_count": 15,
   "metadata": {},
   "outputs": [
    {
     "data": {
      "text/plain": [
       "{'messages': [HumanMessage(content='What is the structure of protein sequence MALLWMRLLPLLALLALWGPD?', additional_kwargs={}, response_metadata={}, id='ba377b71-37d5-412b-bba7-6226f23de08d'),\n",
       "  AIMessage(content='', additional_kwargs={'tool_calls': [{'id': 'chatcmpl-tool-ac1a9a5c7bf540f59db86768efb315d8', 'type': 'function', 'function': {'name': 'predict_protein_structure', 'arguments': '{\"sequence\": \"MALLWMRLLPLLALLALWGPD\"}'}}]}, response_metadata={'role': 'assistant', 'content': None, 'tool_calls': [{'id': 'chatcmpl-tool-ac1a9a5c7bf540f59db86768efb315d8', 'type': 'function', 'function': {'name': 'predict_protein_structure', 'arguments': '{\"sequence\": \"MALLWMRLLPLLALLALWGPD\"}'}}], 'token_usage': {'prompt_tokens': 271, 'total_tokens': 293, 'completion_tokens': 22}, 'finish_reason': 'tool_calls', 'model_name': 'nvdev/meta/llama-3.1-70b-instruct'}, id='run-3ccc0a4e-5f89-4daa-b247-5b13c8ac4596-0', tool_calls=[{'name': 'predict_protein_structure', 'args': {'sequence': 'MALLWMRLLPLLALLALWGPD'}, 'id': 'chatcmpl-tool-ac1a9a5c7bf540f59db86768efb315d8', 'type': 'tool_call'}], usage_metadata={'input_tokens': 271, 'output_tokens': 22, 'total_tokens': 293}, role='assistant'),\n",
       "  ToolMessage(content=\"For the sequence MALLWMRLLPLLALLALWGPD, below are the atomic coordinates of the predicted 3D structure. I have also saved a copy of the outputted PDB file locally.\\n{'pdbs': ['PARENT N/A                                                                      \\\\nMODEL     1                                                                     \\\\nATOM      1  N   MET A   1     -10.468  -4.505 -10.957  1.00 74.34           N  \\\\nATOM      2  CA  MET A   1     -10.264  -3.404 -10.020  1.00 75.18           C  \\\\nATOM      3  C   MET A   1      -9.672  -3.909  -8.709  1.00 76.65           C  \\\\nATOM      4  CB  MET A   1     -11.581  -2.673  -9.754  1.00 69.38           C  \\\\nATOM      5  O   MET A   1      -8.814  -3.252  -8.116  1.00 74.45           O  \\\\nATOM      6  CG  MET A   1     -11.911  -1.608 -10.786  1.00 63.38           C  \\\\nATOM      7  SD  MET A   1     -11.705   0.094 -10.132  1.00 60.39           S  \\\\nATOM      8  CE  MET A   1     -10.775   0.851 -11.493  1.00 54.19           C  \\\\nATOM      9  N   ALA A   2     -10.128  -5.002  -8.234  1.00 80.92           N  \\\\nATOM     10  CA  ALA A   2      -9.678  -5.577  -6.969  1.00 80.99           C  \\\\nATOM     11  C   ALA A   2      -8.175  -5.844  -6.992  1.00 80.46           C  \\\\nATOM     12  CB  ALA A   2     -10.439  -6.867  -6.670  1.00 76.39           C  \\\\nATOM     13  O   ALA A   2      -7.496  -5.686  -5.975  1.00 77.40           O  \\\\nATOM     14  N   LEU A   3      -7.777  -6.228  -8.238  1.00 83.71           N  \\\\nATOM     15  CA  LEU A   3      -6.352  -6.514  -8.363  1.00 83.94           C  \\\\nATOM     16  C   LEU A   3      -5.525  -5.247  -8.174  1.00 82.90           C  \\\\nATOM     17  CB  LEU A   3      -6.048  -7.137  -9.728  1.00 79.17           C  \\\\nATOM     18  O   LEU A   3      -4.424  -5.296  -7.620  1.00 79.97           O  \\\\nATOM     19  CG  LEU A   3      -6.233  -8.651  -9.838  1.00 69.89           C  \\\\nATOM     20  CD1 LEU A   3      -6.628  -9.034 -11.261  1.00 62.10           C  \\\\nATOM     21  CD2 LEU A   3      -4.961  -9.378  -9.417  1.00 63.09           C  \\\\nATOM     22  N   LEU A   4      -6.036  -4.122  -8.665  1.00 86.69           N  \\\\nATOM     23  CA  LEU A   4      -5.317  -2.859  -8.537  1.00 86.45           C  \\\\nATOM     24  C   LEU A   4      -5.201  -2.445  -7.073  1.00 85.77           C  \\\\nATOM     25  CB  LEU A   4      -6.020  -1.758  -9.336  1.00 83.00           C  \\\\nATOM     26  O   LEU A   4      -4.139  -1.999  -6.632  1.00 83.53           O  \\\\nATOM     27  CG  LEU A   4      -5.123  -0.668  -9.923  1.00 73.91           C  \\\\nATOM     28  CD1 LEU A   4      -5.021  -0.824 -11.437  1.00 66.70           C  \\\\nATOM     29  CD2 LEU A   4      -5.652   0.715  -9.557  1.00 67.50           C  \\\\nATOM     30  N   TRP A   5      -6.276  -2.543  -6.243  1.00 86.23           N  \\\\nATOM     31  CA  TRP A   5      -6.264  -2.145  -4.839  1.00 87.11           C  \\\\nATOM     32  C   TRP A   5      -5.279  -2.992  -4.041  1.00 85.64           C  \\\\nATOM     33  CB  TRP A   5      -7.666  -2.265  -4.235  1.00 82.63           C  \\\\nATOM     34  O   TRP A   5      -4.565  -2.477  -3.178  1.00 82.79           O  \\\\nATOM     35  CG  TRP A   5      -8.596  -1.157  -4.629  1.00 70.85           C  \\\\nATOM     36  CD1 TRP A   5      -9.737  -1.265  -5.375  1.00 62.10           C  \\\\nATOM     37  CD2 TRP A   5      -8.460   0.229  -4.302  1.00 63.84           C  \\\\nATOM     38  CE2 TRP A   5      -9.556   0.905  -4.881  1.00 59.49           C  \\\\nATOM     39  CE3 TRP A   5      -7.517   0.966  -3.572  1.00 70.22           C  \\\\nATOM     40  NE1 TRP A   5     -10.319  -0.028  -5.530  1.00 72.37           N  \\\\nATOM     41  CH2 TRP A   5      -8.798   2.982  -4.036  1.00 68.37           C  \\\\nATOM     42  CZ2 TRP A   5      -9.735   2.285  -4.754  1.00 70.78           C  \\\\nATOM     43  CZ3 TRP A   5      -7.697   2.339  -3.447  1.00 69.13           C  \\\\nATOM     44  N   MET A   6      -5.248  -4.306  -4.460  1.00 86.86           N  \\\\nATOM     45  CA  MET A   6      -4.366  -5.203  -3.718  1.00 86.67           C  \\\\nATOM     46  C   MET A   6      -2.903  -4.823  -3.926  1.00 85.70           C  \\\\nATOM     47  CB  MET A   6      -4.594  -6.654  -4.142  1.00 83.57           C  \\\\nATOM     48  O   MET A   6      -2.079  -4.997  -3.027  1.00 83.45           O  \\\\nATOM     49  CG  MET A   6      -5.854  -7.272  -3.558  1.00 74.34           C  \\\\nATOM     50  SD  MET A   6      -6.110  -9.003  -4.111  1.00 69.29           S  \\\\nATOM     51  CE  MET A   6      -4.771  -9.829  -3.208  1.00 67.05           C  \\\\nATOM     52  N   ARG A   7      -2.668  -4.273  -5.085  1.00 85.28           N  \\\\nATOM     53  CA  ARG A   7      -1.291  -3.872  -5.354  1.00 84.61           C  \\\\nATOM     54  C   ARG A   7      -0.987  -2.510  -4.738  1.00 84.13           C  \\\\nATOM     55  CB  ARG A   7      -1.024  -3.838  -6.860  1.00 82.68           C  \\\\nATOM     56  O   ARG A   7       0.127  -2.270  -4.268  1.00 82.35           O  \\\\nATOM     57  CG  ARG A   7      -0.994  -5.211  -7.512  1.00 77.59           C  \\\\nATOM     58  CD  ARG A   7      -0.670  -5.123  -8.997  1.00 76.90           C  \\\\nATOM     59  NE  ARG A   7      -0.663  -6.441  -9.626  1.00 70.61           N  \\\\nATOM     60  NH1 ARG A   7      -0.293  -5.647 -11.763  1.00 63.46           N  \\\\nATOM     61  NH2 ARG A   7      -0.497  -7.900 -11.392  1.00 62.75           N  \\\\nATOM     62  CZ  ARG A   7      -0.484  -6.660 -10.925  1.00 67.90           C  \\\\nATOM     63  N   LEU A   8      -2.057  -1.630  -4.682  1.00 87.54           N  \\\\nATOM     64  CA  LEU A   8      -1.829  -0.266  -4.217  1.00 86.90           C  \\\\nATOM     65  C   LEU A   8      -1.792  -0.211  -2.694  1.00 86.79           C  \\\\nATOM     66  CB  LEU A   8      -2.919   0.670  -4.747  1.00 84.65           C  \\\\nATOM     67  O   LEU A   8      -1.089   0.622  -2.116  1.00 85.11           O  \\\\nATOM     68  CG  LEU A   8      -2.759   1.148  -6.191  1.00 76.48           C  \\\\nATOM     69  CD1 LEU A   8      -4.060   1.766  -6.692  1.00 69.09           C  \\\\nATOM     70  CD2 LEU A   8      -1.610   2.144  -6.301  1.00 69.61           C  \\\\nATOM     71  N   LEU A   9      -2.531  -1.196  -1.970  1.00 86.44           N  \\\\nATOM     72  CA  LEU A   9      -2.682  -1.117  -0.521  1.00 85.82           C  \\\\nATOM     73  C   LEU A   9      -1.330  -1.238   0.174  1.00 86.40           C  \\\\nATOM     74  CB  LEU A   9      -3.627  -2.212  -0.020  1.00 84.11           C  \\\\nATOM     75  O   LEU A   9      -1.011  -0.445   1.063  1.00 85.39           O  \\\\nATOM     76  CG  LEU A   9      -4.654  -1.791   1.033  1.00 77.53           C  \\\\nATOM     77  CD1 LEU A   9      -5.810  -1.044   0.377  1.00 71.23           C  \\\\nATOM     78  CD2 LEU A   9      -5.163  -3.008   1.799  1.00 71.49           C  \\\\nATOM     79  N   PRO A  10      -0.466  -2.276  -0.233  1.00 86.22           N  \\\\nATOM     80  CA  PRO A  10       0.822  -2.371   0.458  1.00 86.17           C  \\\\nATOM     81  C   PRO A  10       1.712  -1.153   0.218  1.00 85.93           C  \\\\nATOM     82  CB  PRO A  10       1.450  -3.633  -0.140  1.00 85.46           C  \\\\nATOM     83  O   PRO A  10       2.449  -0.736   1.115  1.00 84.71           O  \\\\nATOM     84  CG  PRO A  10       0.385  -4.212  -1.015  1.00 84.94           C  \\\\nATOM     85  CD  PRO A  10      -0.723  -3.207  -1.147  1.00 85.75           C  \\\\nATOM     86  N   LEU A  11       1.508  -0.578  -1.014  1.00 84.59           N  \\\\nATOM     87  CA  LEU A  11       2.296   0.608  -1.332  1.00 84.15           C  \\\\nATOM     88  C   LEU A  11       1.868   1.792  -0.471  1.00 84.26           C  \\\\nATOM     89  CB  LEU A  11       2.157   0.962  -2.814  1.00 82.60           C  \\\\nATOM     90  O   LEU A  11       2.711   2.554   0.007  1.00 83.01           O  \\\\nATOM     91  CG  LEU A  11       3.336   0.591  -3.714  1.00 77.59           C  \\\\nATOM     92  CD1 LEU A  11       2.855  -0.228  -4.908  1.00 72.67           C  \\\\nATOM     93  CD2 LEU A  11       4.070   1.844  -4.179  1.00 73.28           C  \\\\nATOM     94  N   LEU A  12       0.623   2.023  -0.284  1.00 83.85           N  \\\\nATOM     95  CA  LEU A  12       0.135   3.126   0.535  1.00 83.59           C  \\\\nATOM     96  C   LEU A  12       0.513   2.926   1.998  1.00 83.78           C  \\\\nATOM     97  CB  LEU A  12      -1.385   3.261   0.402  1.00 81.84           C  \\\\nATOM     98  O   LEU A  12       0.815   3.892   2.704  1.00 82.78           O  \\\\nATOM     99  CG  LEU A  12      -1.893   4.033  -0.816  1.00 76.73           C  \\\\nATOM    100  CD1 LEU A  12      -3.369   3.734  -1.055  1.00 71.75           C  \\\\nATOM    101  CD2 LEU A  12      -1.669   5.530  -0.633  1.00 72.57           C  \\\\nATOM    102  N   ALA A  13       0.406   1.681   2.480  1.00 83.61           N  \\\\nATOM    103  CA  ALA A  13       0.818   1.390   3.851  1.00 83.48           C  \\\\nATOM    104  C   ALA A  13       2.276   1.779   4.079  1.00 83.38           C  \\\\nATOM    105  CB  ALA A  13       0.610  -0.088   4.168  1.00 81.99           C  \\\\nATOM    106  O   ALA A  13       2.616   2.357   5.115  1.00 82.22           O  \\\\nATOM    107  N   LEU A  14       3.104   1.462   2.999  1.00 84.23           N  \\\\nATOM    108  CA  LEU A  14       4.522   1.793   3.092  1.00 83.79           C  \\\\nATOM    109  C   LEU A  14       4.726   3.304   3.123  1.00 83.54           C  \\\\nATOM    110  CB  LEU A  14       5.294   1.185   1.918  1.00 82.05           C  \\\\nATOM    111  O   LEU A  14       5.556   3.807   3.884  1.00 82.13           O  \\\\nATOM    112  CG  LEU A  14       5.726  -0.274   2.073  1.00 77.10           C  \\\\nATOM    113  CD1 LEU A  14       5.921  -0.917   0.704  1.00 72.51           C  \\\\nATOM    114  CD2 LEU A  14       7.003  -0.368   2.901  1.00 73.38           C  \\\\nATOM    115  N   LEU A  15       3.967   4.001   2.360  1.00 83.29           N  \\\\nATOM    116  CA  LEU A  15       4.095   5.452   2.292  1.00 82.71           C  \\\\nATOM    117  C   LEU A  15       3.642   6.099   3.597  1.00 82.64           C  \\\\nATOM    118  CB  LEU A  15       3.278   6.009   1.123  1.00 80.86           C  \\\\nATOM    119  O   LEU A  15       4.186   7.128   4.006  1.00 81.27           O  \\\\nATOM    120  CG  LEU A  15       3.972   6.031  -0.240  1.00 75.76           C  \\\\nATOM    121  CD1 LEU A  15       2.944   5.925  -1.361  1.00 70.83           C  \\\\nATOM    122  CD2 LEU A  15       4.809   7.296  -0.393  1.00 71.66           C  \\\\nATOM    123  N   ALA A  16       2.607   5.501   4.205  1.00 82.44           N  \\\\nATOM    124  CA  ALA A  16       2.096   6.043   5.461  1.00 82.03           C  \\\\nATOM    125  C   ALA A  16       3.139   5.935   6.570  1.00 81.90           C  \\\\nATOM    126  CB  ALA A  16       0.813   5.323   5.869  1.00 80.45           C  \\\\nATOM    127  O   ALA A  16       3.160   6.752   7.493  1.00 80.53           O  \\\\nATOM    128  N   LEU A  17       3.993   4.956   6.442  1.00 83.05           N  \\\\nATOM    129  CA  LEU A  17       5.011   4.721   7.460  1.00 82.44           C  \\\\nATOM    130  C   LEU A  17       6.181   5.684   7.291  1.00 82.06           C  \\\\nATOM    131  CB  LEU A  17       5.511   3.276   7.395  1.00 80.46           C  \\\\nATOM    132  O   LEU A  17       6.945   5.911   8.232  1.00 79.97           O  \\\\nATOM    133  CG  LEU A  17       4.548   2.202   7.905  1.00 75.52           C  \\\\nATOM    134  CD1 LEU A  17       4.986   0.824   7.420  1.00 70.43           C  \\\\nATOM    135  CD2 LEU A  17       4.466   2.237   9.428  1.00 71.23           C  \\\\nATOM    136  N   TRP A  18       6.240   6.368   6.215  1.00 80.49           N  \\\\nATOM    137  CA  TRP A  18       7.340   7.283   5.931  1.00 80.60           C  \\\\nATOM    138  C   TRP A  18       6.937   8.726   6.217  1.00 79.11           C  \\\\nATOM    139  CB  TRP A  18       7.792   7.146   4.474  1.00 76.58           C  \\\\nATOM    140  O   TRP A  18       7.759   9.639   6.117  1.00 74.71           O  \\\\nATOM    141  CG  TRP A  18       8.842   6.098   4.258  1.00 69.15           C  \\\\nATOM    142  CD1 TRP A  18       9.041   4.966   4.999  1.00 62.79           C  \\\\nATOM    143  CD2 TRP A  18       9.842   6.089   3.235  1.00 64.53           C  \\\\nATOM    144  CE2 TRP A  18      10.613   4.919   3.414  1.00 61.64           C  \\\\nATOM    145  CE3 TRP A  18      10.160   6.957   2.181  1.00 68.74           C  \\\\nATOM    146  NE1 TRP A  18      10.104   4.252   4.496  1.00 69.73           N  \\\\nATOM    147  CH2 TRP A  18      11.974   5.461   1.555  1.00 65.89           C  \\\\nATOM    148  CZ2 TRP A  18      11.684   4.595   2.578  1.00 68.57           C  \\\\nATOM    149  CZ3 TRP A  18      11.226   6.632   1.350  1.00 66.38           C  \\\\nATOM    150  N   GLY A  19       5.637   8.854   6.697  1.00 75.64           N  \\\\nATOM    151  CA  GLY A  19       5.096  10.167   7.009  1.00 74.83           C  \\\\nATOM    152  C   GLY A  19       5.854  10.877   8.115  1.00 75.62           C  \\\\nATOM    153  O   GLY A  19       6.454  10.232   8.977  1.00 71.58           O  \\\\nATOM    154  N   PRO A  20       6.258  11.998   7.821  1.00 76.67           N  \\\\nATOM    155  CA  PRO A  20       7.005  12.941   8.657  1.00 76.18           C  \\\\nATOM    156  C   PRO A  20       6.447  13.041  10.075  1.00 76.82           C  \\\\nATOM    157  CB  PRO A  20       6.849  14.270   7.914  1.00 73.29           C  \\\\nATOM    158  O   PRO A  20       5.260  12.788  10.295  1.00 74.04           O  \\\\nATOM    159  CG  PRO A  20       5.976  13.954   6.743  1.00 71.04           C  \\\\nATOM    160  CD  PRO A  20       5.600  12.501   6.807  1.00 70.81           C  \\\\nATOM    161  N   ASP A  21       7.176  12.567  11.144  1.00 68.33           N  \\\\nATOM    162  CA  ASP A  21       6.693  12.876  12.486  1.00 69.04           C  \\\\nATOM    163  C   ASP A  21       6.025  14.248  12.527  1.00 67.77           C  \\\\nATOM    164  CB  ASP A  21       7.841  12.820  13.496  1.00 62.86           C  \\\\nATOM    165  O   ASP A  21       6.506  15.198  11.906  1.00 65.61           O  \\\\nATOM    166  CG  ASP A  21       8.428  11.428  13.649  1.00 59.04           C  \\\\nATOM    167  OD1 ASP A  21       7.668  10.436  13.602  1.00 54.83           O  \\\\nATOM    168  OD2 ASP A  21       9.662  11.321  13.821  1.00 59.02           O  \\\\nTER     169      ASP A  21                                                      \\\\nENDMDL                                                                          \\\\nEND                                                                             \\\\n']}\", name='predict_protein_structure', id='489752c8-d35b-430e-92cb-9e19824c7f5a', tool_call_id='chatcmpl-tool-ac1a9a5c7bf540f59db86768efb315d8')]}"
      ]
     },
     "execution_count": 15,
     "metadata": {},
     "output_type": "execute_result"
    }
   ],
   "source": [
    "full_protein_result = agent.invoke({\"messages\": [{\"role\": \"user\", \"content\": \"What is the structure of protein sequence MALLWMRLLPLLALLALWGPD?\"}]})\n",
    "full_protein_result"
   ]
  },
  {
   "cell_type": "markdown",
   "metadata": {},
   "source": [
    "As seen, the agent's reasoning loop ends directly with the tool call. If we don't want this to happen, we can edit the tool decorator accordingly:"
   ]
  },
  {
   "cell_type": "code",
   "execution_count": 16,
   "metadata": {},
   "outputs": [
    {
     "data": {
      "text/plain": [
       "{'messages': [HumanMessage(content='What is the structure of protein sequence MALLWMRLLPLLALLALWGPD?', additional_kwargs={}, response_metadata={}, id='40c24308-9d7b-4e87-a234-b29ddbceb7c9'),\n",
       "  AIMessage(content='', additional_kwargs={'tool_calls': [{'id': 'chatcmpl-tool-c74b601282c148c3b689511118672497', 'type': 'function', 'function': {'name': 'predict_protein_structure', 'arguments': '{\"sequence\": \"MALLWMRLLPLLALLALWGPD\"}'}}]}, response_metadata={'role': 'assistant', 'content': None, 'tool_calls': [{'id': 'chatcmpl-tool-c74b601282c148c3b689511118672497', 'type': 'function', 'function': {'name': 'predict_protein_structure', 'arguments': '{\"sequence\": \"MALLWMRLLPLLALLALWGPD\"}'}}], 'token_usage': {'prompt_tokens': 271, 'total_tokens': 293, 'completion_tokens': 22}, 'finish_reason': 'tool_calls', 'model_name': 'nvdev/meta/llama-3.1-70b-instruct'}, id='run-093a10f5-e331-40f2-bb40-48314c39e192-0', tool_calls=[{'name': 'predict_protein_structure', 'args': {'sequence': 'MALLWMRLLPLLALLALWGPD'}, 'id': 'chatcmpl-tool-c74b601282c148c3b689511118672497', 'type': 'tool_call'}], usage_metadata={'input_tokens': 271, 'output_tokens': 22, 'total_tokens': 293}, role='assistant'),\n",
       "  ToolMessage(content=\"For the sequence MALLWMRLLPLLALLALWGPD, below are the atomic coordinates of the predicted 3D structure. I have also saved a copy of the outputted PDB file locally.\\n{'pdbs': ['PARENT N/A                                                                      \\\\nMODEL     1                                                                     \\\\nATOM      1  N   MET A   1     -10.468  -4.505 -10.957  1.00 74.34           N  \\\\nATOM      2  CA  MET A   1     -10.264  -3.404 -10.020  1.00 75.18           C  \\\\nATOM      3  C   MET A   1      -9.672  -3.909  -8.709  1.00 76.65           C  \\\\nATOM      4  CB  MET A   1     -11.581  -2.673  -9.754  1.00 69.38           C  \\\\nATOM      5  O   MET A   1      -8.814  -3.252  -8.116  1.00 74.45           O  \\\\nATOM      6  CG  MET A   1     -11.911  -1.608 -10.786  1.00 63.38           C  \\\\nATOM      7  SD  MET A   1     -11.705   0.094 -10.132  1.00 60.39           S  \\\\nATOM      8  CE  MET A   1     -10.775   0.851 -11.493  1.00 54.19           C  \\\\nATOM      9  N   ALA A   2     -10.128  -5.002  -8.234  1.00 80.92           N  \\\\nATOM     10  CA  ALA A   2      -9.678  -5.577  -6.969  1.00 80.99           C  \\\\nATOM     11  C   ALA A   2      -8.175  -5.844  -6.992  1.00 80.46           C  \\\\nATOM     12  CB  ALA A   2     -10.439  -6.867  -6.670  1.00 76.39           C  \\\\nATOM     13  O   ALA A   2      -7.496  -5.686  -5.975  1.00 77.40           O  \\\\nATOM     14  N   LEU A   3      -7.777  -6.228  -8.238  1.00 83.71           N  \\\\nATOM     15  CA  LEU A   3      -6.352  -6.514  -8.363  1.00 83.94           C  \\\\nATOM     16  C   LEU A   3      -5.525  -5.247  -8.174  1.00 82.90           C  \\\\nATOM     17  CB  LEU A   3      -6.048  -7.137  -9.728  1.00 79.17           C  \\\\nATOM     18  O   LEU A   3      -4.424  -5.296  -7.620  1.00 79.97           O  \\\\nATOM     19  CG  LEU A   3      -6.233  -8.651  -9.838  1.00 69.89           C  \\\\nATOM     20  CD1 LEU A   3      -6.628  -9.034 -11.261  1.00 62.10           C  \\\\nATOM     21  CD2 LEU A   3      -4.961  -9.378  -9.417  1.00 63.09           C  \\\\nATOM     22  N   LEU A   4      -6.036  -4.122  -8.665  1.00 86.69           N  \\\\nATOM     23  CA  LEU A   4      -5.317  -2.859  -8.537  1.00 86.45           C  \\\\nATOM     24  C   LEU A   4      -5.201  -2.445  -7.073  1.00 85.77           C  \\\\nATOM     25  CB  LEU A   4      -6.020  -1.758  -9.336  1.00 83.00           C  \\\\nATOM     26  O   LEU A   4      -4.139  -1.999  -6.632  1.00 83.53           O  \\\\nATOM     27  CG  LEU A   4      -5.123  -0.668  -9.923  1.00 73.91           C  \\\\nATOM     28  CD1 LEU A   4      -5.021  -0.824 -11.437  1.00 66.70           C  \\\\nATOM     29  CD2 LEU A   4      -5.652   0.715  -9.557  1.00 67.50           C  \\\\nATOM     30  N   TRP A   5      -6.276  -2.543  -6.243  1.00 86.23           N  \\\\nATOM     31  CA  TRP A   5      -6.264  -2.145  -4.839  1.00 87.11           C  \\\\nATOM     32  C   TRP A   5      -5.279  -2.992  -4.041  1.00 85.64           C  \\\\nATOM     33  CB  TRP A   5      -7.666  -2.265  -4.235  1.00 82.63           C  \\\\nATOM     34  O   TRP A   5      -4.565  -2.477  -3.178  1.00 82.79           O  \\\\nATOM     35  CG  TRP A   5      -8.596  -1.157  -4.629  1.00 70.85           C  \\\\nATOM     36  CD1 TRP A   5      -9.737  -1.265  -5.375  1.00 62.10           C  \\\\nATOM     37  CD2 TRP A   5      -8.460   0.229  -4.302  1.00 63.84           C  \\\\nATOM     38  CE2 TRP A   5      -9.556   0.905  -4.881  1.00 59.49           C  \\\\nATOM     39  CE3 TRP A   5      -7.517   0.966  -3.572  1.00 70.22           C  \\\\nATOM     40  NE1 TRP A   5     -10.319  -0.028  -5.530  1.00 72.37           N  \\\\nATOM     41  CH2 TRP A   5      -8.798   2.982  -4.036  1.00 68.37           C  \\\\nATOM     42  CZ2 TRP A   5      -9.735   2.285  -4.754  1.00 70.78           C  \\\\nATOM     43  CZ3 TRP A   5      -7.697   2.339  -3.447  1.00 69.13           C  \\\\nATOM     44  N   MET A   6      -5.248  -4.306  -4.460  1.00 86.86           N  \\\\nATOM     45  CA  MET A   6      -4.366  -5.203  -3.718  1.00 86.67           C  \\\\nATOM     46  C   MET A   6      -2.903  -4.823  -3.926  1.00 85.70           C  \\\\nATOM     47  CB  MET A   6      -4.594  -6.654  -4.142  1.00 83.57           C  \\\\nATOM     48  O   MET A   6      -2.079  -4.997  -3.027  1.00 83.45           O  \\\\nATOM     49  CG  MET A   6      -5.854  -7.272  -3.558  1.00 74.34           C  \\\\nATOM     50  SD  MET A   6      -6.110  -9.003  -4.111  1.00 69.29           S  \\\\nATOM     51  CE  MET A   6      -4.771  -9.829  -3.208  1.00 67.05           C  \\\\nATOM     52  N   ARG A   7      -2.668  -4.273  -5.085  1.00 85.28           N  \\\\nATOM     53  CA  ARG A   7      -1.291  -3.872  -5.354  1.00 84.61           C  \\\\nATOM     54  C   ARG A   7      -0.987  -2.510  -4.738  1.00 84.13           C  \\\\nATOM     55  CB  ARG A   7      -1.024  -3.838  -6.860  1.00 82.68           C  \\\\nATOM     56  O   ARG A   7       0.127  -2.270  -4.268  1.00 82.35           O  \\\\nATOM     57  CG  ARG A   7      -0.994  -5.211  -7.512  1.00 77.59           C  \\\\nATOM     58  CD  ARG A   7      -0.670  -5.123  -8.997  1.00 76.90           C  \\\\nATOM     59  NE  ARG A   7      -0.663  -6.441  -9.626  1.00 70.61           N  \\\\nATOM     60  NH1 ARG A   7      -0.293  -5.647 -11.763  1.00 63.46           N  \\\\nATOM     61  NH2 ARG A   7      -0.497  -7.900 -11.392  1.00 62.75           N  \\\\nATOM     62  CZ  ARG A   7      -0.484  -6.660 -10.925  1.00 67.90           C  \\\\nATOM     63  N   LEU A   8      -2.057  -1.630  -4.682  1.00 87.54           N  \\\\nATOM     64  CA  LEU A   8      -1.829  -0.266  -4.217  1.00 86.90           C  \\\\nATOM     65  C   LEU A   8      -1.792  -0.211  -2.694  1.00 86.79           C  \\\\nATOM     66  CB  LEU A   8      -2.919   0.670  -4.747  1.00 84.65           C  \\\\nATOM     67  O   LEU A   8      -1.089   0.622  -2.116  1.00 85.11           O  \\\\nATOM     68  CG  LEU A   8      -2.759   1.148  -6.191  1.00 76.48           C  \\\\nATOM     69  CD1 LEU A   8      -4.060   1.766  -6.692  1.00 69.09           C  \\\\nATOM     70  CD2 LEU A   8      -1.610   2.144  -6.301  1.00 69.61           C  \\\\nATOM     71  N   LEU A   9      -2.531  -1.196  -1.970  1.00 86.44           N  \\\\nATOM     72  CA  LEU A   9      -2.682  -1.117  -0.521  1.00 85.82           C  \\\\nATOM     73  C   LEU A   9      -1.330  -1.238   0.174  1.00 86.40           C  \\\\nATOM     74  CB  LEU A   9      -3.627  -2.212  -0.020  1.00 84.11           C  \\\\nATOM     75  O   LEU A   9      -1.011  -0.445   1.063  1.00 85.39           O  \\\\nATOM     76  CG  LEU A   9      -4.654  -1.791   1.033  1.00 77.53           C  \\\\nATOM     77  CD1 LEU A   9      -5.810  -1.044   0.377  1.00 71.23           C  \\\\nATOM     78  CD2 LEU A   9      -5.163  -3.008   1.799  1.00 71.49           C  \\\\nATOM     79  N   PRO A  10      -0.466  -2.276  -0.233  1.00 86.22           N  \\\\nATOM     80  CA  PRO A  10       0.822  -2.371   0.458  1.00 86.17           C  \\\\nATOM     81  C   PRO A  10       1.712  -1.153   0.218  1.00 85.93           C  \\\\nATOM     82  CB  PRO A  10       1.450  -3.633  -0.140  1.00 85.46           C  \\\\nATOM     83  O   PRO A  10       2.449  -0.736   1.115  1.00 84.71           O  \\\\nATOM     84  CG  PRO A  10       0.385  -4.212  -1.015  1.00 84.94           C  \\\\nATOM     85  CD  PRO A  10      -0.723  -3.207  -1.147  1.00 85.75           C  \\\\nATOM     86  N   LEU A  11       1.508  -0.578  -1.014  1.00 84.59           N  \\\\nATOM     87  CA  LEU A  11       2.296   0.608  -1.332  1.00 84.15           C  \\\\nATOM     88  C   LEU A  11       1.868   1.792  -0.471  1.00 84.26           C  \\\\nATOM     89  CB  LEU A  11       2.157   0.962  -2.814  1.00 82.60           C  \\\\nATOM     90  O   LEU A  11       2.711   2.554   0.007  1.00 83.01           O  \\\\nATOM     91  CG  LEU A  11       3.336   0.591  -3.714  1.00 77.59           C  \\\\nATOM     92  CD1 LEU A  11       2.855  -0.228  -4.908  1.00 72.67           C  \\\\nATOM     93  CD2 LEU A  11       4.070   1.844  -4.179  1.00 73.28           C  \\\\nATOM     94  N   LEU A  12       0.623   2.023  -0.284  1.00 83.85           N  \\\\nATOM     95  CA  LEU A  12       0.135   3.126   0.535  1.00 83.59           C  \\\\nATOM     96  C   LEU A  12       0.513   2.926   1.998  1.00 83.78           C  \\\\nATOM     97  CB  LEU A  12      -1.385   3.261   0.402  1.00 81.84           C  \\\\nATOM     98  O   LEU A  12       0.815   3.892   2.704  1.00 82.78           O  \\\\nATOM     99  CG  LEU A  12      -1.893   4.033  -0.816  1.00 76.73           C  \\\\nATOM    100  CD1 LEU A  12      -3.369   3.734  -1.055  1.00 71.75           C  \\\\nATOM    101  CD2 LEU A  12      -1.669   5.530  -0.633  1.00 72.57           C  \\\\nATOM    102  N   ALA A  13       0.406   1.681   2.480  1.00 83.61           N  \\\\nATOM    103  CA  ALA A  13       0.818   1.390   3.851  1.00 83.48           C  \\\\nATOM    104  C   ALA A  13       2.276   1.779   4.079  1.00 83.38           C  \\\\nATOM    105  CB  ALA A  13       0.610  -0.088   4.168  1.00 81.99           C  \\\\nATOM    106  O   ALA A  13       2.616   2.357   5.115  1.00 82.22           O  \\\\nATOM    107  N   LEU A  14       3.104   1.462   2.999  1.00 84.23           N  \\\\nATOM    108  CA  LEU A  14       4.522   1.793   3.092  1.00 83.79           C  \\\\nATOM    109  C   LEU A  14       4.726   3.304   3.123  1.00 83.54           C  \\\\nATOM    110  CB  LEU A  14       5.294   1.185   1.918  1.00 82.05           C  \\\\nATOM    111  O   LEU A  14       5.556   3.807   3.884  1.00 82.13           O  \\\\nATOM    112  CG  LEU A  14       5.726  -0.274   2.073  1.00 77.10           C  \\\\nATOM    113  CD1 LEU A  14       5.921  -0.917   0.704  1.00 72.51           C  \\\\nATOM    114  CD2 LEU A  14       7.003  -0.368   2.901  1.00 73.38           C  \\\\nATOM    115  N   LEU A  15       3.967   4.001   2.360  1.00 83.29           N  \\\\nATOM    116  CA  LEU A  15       4.095   5.452   2.292  1.00 82.71           C  \\\\nATOM    117  C   LEU A  15       3.642   6.099   3.597  1.00 82.64           C  \\\\nATOM    118  CB  LEU A  15       3.278   6.009   1.123  1.00 80.86           C  \\\\nATOM    119  O   LEU A  15       4.186   7.128   4.006  1.00 81.27           O  \\\\nATOM    120  CG  LEU A  15       3.972   6.031  -0.240  1.00 75.76           C  \\\\nATOM    121  CD1 LEU A  15       2.944   5.925  -1.361  1.00 70.83           C  \\\\nATOM    122  CD2 LEU A  15       4.809   7.296  -0.393  1.00 71.66           C  \\\\nATOM    123  N   ALA A  16       2.607   5.501   4.205  1.00 82.44           N  \\\\nATOM    124  CA  ALA A  16       2.096   6.043   5.461  1.00 82.03           C  \\\\nATOM    125  C   ALA A  16       3.139   5.935   6.570  1.00 81.90           C  \\\\nATOM    126  CB  ALA A  16       0.813   5.323   5.869  1.00 80.45           C  \\\\nATOM    127  O   ALA A  16       3.160   6.752   7.493  1.00 80.53           O  \\\\nATOM    128  N   LEU A  17       3.993   4.956   6.442  1.00 83.05           N  \\\\nATOM    129  CA  LEU A  17       5.011   4.721   7.460  1.00 82.44           C  \\\\nATOM    130  C   LEU A  17       6.181   5.684   7.291  1.00 82.06           C  \\\\nATOM    131  CB  LEU A  17       5.511   3.276   7.395  1.00 80.46           C  \\\\nATOM    132  O   LEU A  17       6.945   5.911   8.232  1.00 79.97           O  \\\\nATOM    133  CG  LEU A  17       4.548   2.202   7.905  1.00 75.52           C  \\\\nATOM    134  CD1 LEU A  17       4.986   0.824   7.420  1.00 70.43           C  \\\\nATOM    135  CD2 LEU A  17       4.466   2.237   9.428  1.00 71.23           C  \\\\nATOM    136  N   TRP A  18       6.240   6.368   6.215  1.00 80.49           N  \\\\nATOM    137  CA  TRP A  18       7.340   7.283   5.931  1.00 80.60           C  \\\\nATOM    138  C   TRP A  18       6.937   8.726   6.217  1.00 79.11           C  \\\\nATOM    139  CB  TRP A  18       7.792   7.146   4.474  1.00 76.58           C  \\\\nATOM    140  O   TRP A  18       7.759   9.639   6.117  1.00 74.71           O  \\\\nATOM    141  CG  TRP A  18       8.842   6.098   4.258  1.00 69.15           C  \\\\nATOM    142  CD1 TRP A  18       9.041   4.966   4.999  1.00 62.79           C  \\\\nATOM    143  CD2 TRP A  18       9.842   6.089   3.235  1.00 64.53           C  \\\\nATOM    144  CE2 TRP A  18      10.613   4.919   3.414  1.00 61.64           C  \\\\nATOM    145  CE3 TRP A  18      10.160   6.957   2.181  1.00 68.74           C  \\\\nATOM    146  NE1 TRP A  18      10.104   4.252   4.496  1.00 69.73           N  \\\\nATOM    147  CH2 TRP A  18      11.974   5.461   1.555  1.00 65.89           C  \\\\nATOM    148  CZ2 TRP A  18      11.684   4.595   2.578  1.00 68.57           C  \\\\nATOM    149  CZ3 TRP A  18      11.226   6.632   1.350  1.00 66.38           C  \\\\nATOM    150  N   GLY A  19       5.637   8.854   6.697  1.00 75.64           N  \\\\nATOM    151  CA  GLY A  19       5.096  10.167   7.009  1.00 74.83           C  \\\\nATOM    152  C   GLY A  19       5.854  10.877   8.115  1.00 75.62           C  \\\\nATOM    153  O   GLY A  19       6.454  10.232   8.977  1.00 71.58           O  \\\\nATOM    154  N   PRO A  20       6.258  11.998   7.821  1.00 76.67           N  \\\\nATOM    155  CA  PRO A  20       7.005  12.941   8.657  1.00 76.18           C  \\\\nATOM    156  C   PRO A  20       6.447  13.041  10.075  1.00 76.82           C  \\\\nATOM    157  CB  PRO A  20       6.849  14.270   7.914  1.00 73.29           C  \\\\nATOM    158  O   PRO A  20       5.260  12.788  10.295  1.00 74.04           O  \\\\nATOM    159  CG  PRO A  20       5.976  13.954   6.743  1.00 71.04           C  \\\\nATOM    160  CD  PRO A  20       5.600  12.501   6.807  1.00 70.81           C  \\\\nATOM    161  N   ASP A  21       7.176  12.567  11.144  1.00 68.33           N  \\\\nATOM    162  CA  ASP A  21       6.693  12.876  12.486  1.00 69.04           C  \\\\nATOM    163  C   ASP A  21       6.025  14.248  12.527  1.00 67.77           C  \\\\nATOM    164  CB  ASP A  21       7.841  12.820  13.496  1.00 62.86           C  \\\\nATOM    165  O   ASP A  21       6.506  15.198  11.906  1.00 65.61           O  \\\\nATOM    166  CG  ASP A  21       8.428  11.428  13.649  1.00 59.04           C  \\\\nATOM    167  OD1 ASP A  21       7.668  10.436  13.602  1.00 54.83           O  \\\\nATOM    168  OD2 ASP A  21       9.662  11.321  13.821  1.00 59.02           O  \\\\nTER     169      ASP A  21                                                      \\\\nENDMDL                                                                          \\\\nEND                                                                             \\\\n']}\", name='predict_protein_structure', id='d385d563-fae1-475b-84e6-2722635ce9f9', tool_call_id='chatcmpl-tool-c74b601282c148c3b689511118672497'),\n",
       "  AIMessage(content=\"The structure of the protein sequence MALLWMRLLPLLALLALWGPD is a 3D protein structure. The atomic coordinates of the predicted 3D structure are provided in the output. The structure consists of 169 atoms, including nitrogen, carbon, oxygen, and sulfur atoms. The structure is composed of alpha helices, beta sheets, and turns, which are common secondary structure elements in proteins. The structure also includes a disulfide bond between cysteine residues, which helps to stabilize the protein's conformation. The structure is predicted to have a high degree of accuracy, with a confidence score of 85.64.\", additional_kwargs={}, response_metadata={'role': 'assistant', 'content': \"The structure of the protein sequence MALLWMRLLPLLALLALWGPD is a 3D protein structure. The atomic coordinates of the predicted 3D structure are provided in the output. The structure consists of 169 atoms, including nitrogen, carbon, oxygen, and sulfur atoms. The structure is composed of alpha helices, beta sheets, and turns, which are common secondary structure elements in proteins. The structure also includes a disulfide bond between cysteine residues, which helps to stabilize the protein's conformation. The structure is predicted to have a high degree of accuracy, with a confidence score of 85.64.\", 'token_usage': {'prompt_tokens': 7399, 'total_tokens': 7529, 'completion_tokens': 130}, 'finish_reason': 'stop', 'model_name': 'nvdev/meta/llama-3.1-70b-instruct'}, id='run-bf331dee-1ccf-426d-98a9-9c79abfd31f3-0', usage_metadata={'input_tokens': 7399, 'output_tokens': 130, 'total_tokens': 7529}, role='assistant')]}"
      ]
     },
     "execution_count": 16,
     "metadata": {},
     "output_type": "execute_result"
    }
   ],
   "source": [
    "@tool\n",
    "def predict_protein_structure(\n",
    "    sequence: str = Field(..., description=\"The amino acid sequence of the protein\")\n",
    ") -> str:\n",
    "    \"\"\"Predict the 3D structure of a protein from its amino acid sequence.\"\"\"\n",
    "\n",
    "    # Step 1\n",
    "    response_body = invoke_esmfold_nim(sequence)\n",
    "\n",
    "    # Step 2\n",
    "    save_esmfold_output(response_body)\n",
    "\n",
    "    # Output Text\n",
    "    default_head = f'For the sequence {sequence}, below are the atomic coordinates of the predicted 3D structure. I have also saved a copy of the outputted PDB file locally.\\n'\n",
    "    full_response = default_head + str(response_body)\n",
    "    \n",
    "    return full_response\n",
    "\n",
    "agent = create_react_agent(model, tools=[predict_protein_structure])\n",
    "\n",
    "full_protein_result = agent.invoke({\"messages\": [{\"role\": \"user\", \"content\": \"What is the structure of protein sequence MALLWMRLLPLLALLALWGPD?\"}]})\n",
    "full_protein_result"
   ]
  },
  {
   "cell_type": "markdown",
   "metadata": {},
   "source": [
    "The orchestrator now sees the ESMFold output, but rather than stopping and directly printing it, it takes an extra step, analyzing and summarizing the output. In this case, it notes the number of atoms seen in the predicted 3D structure, counts the Hydrogen atoms, etc.\n",
    "\n",
    "The decision of whether or not to directly stop at the tool's output is highly dependent on the use-case."
   ]
  }
 ],
 "metadata": {
  "kernelspec": {
   "display_name": "langchain",
   "language": "python",
   "name": "python3"
  },
  "language_info": {
   "codemirror_mode": {
    "name": "ipython",
    "version": 3
   },
   "file_extension": ".py",
   "mimetype": "text/x-python",
   "name": "python",
   "nbconvert_exporter": "python",
   "pygments_lexer": "ipython3",
   "version": "3.9.21"
  }
 },
 "nbformat": 4,
 "nbformat_minor": 2
}
